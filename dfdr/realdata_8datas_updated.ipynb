{
 "cells": [
  {
   "cell_type": "code",
   "execution_count": 32,
   "metadata": {
    "collapsed": false
   },
   "outputs": [],
   "source": [
    "# use new code from calour\n",
    "import warnings   \n",
    "warnings.simplefilter(\"ignore\") \n",
    "%matplotlib inline\n",
    "#%matplotlib notebook\n",
    "import sys\n",
    "#sys.path.append('/Users/Serene/calour')\n",
    "import calour as cl\n",
    "import numpy as np"
   ]
  },
  {
   "cell_type": "markdown",
   "metadata": {},
   "source": [
    "## Gevers' CD data set (Qiita ID: 1939)"
   ]
  },
  {
   "cell_type": "code",
   "execution_count": 26,
   "metadata": {
    "collapsed": false
   },
   "outputs": [
    {
     "name": "stdout",
     "output_type": "stream",
     "text": [
      "('Loading biom table data/gcd.biom',)\n",
      "ae87319616023e287e9dc096780ee611\n",
      "('Loading mapping file data/gcd.map.txt',)\n",
      "('number of samples in map is 1359',)\n",
      "('number of samples in table is 1359',)\n",
      "('removing 0 samples',)\n",
      "('deleted. number of samples in table is now 1359',)\n",
      "('number of samples in mapping file is now 1359',)\n",
      "('1075 Samples left',)\n",
      "('1059 Samples left',)\n"
     ]
    }
   ],
   "source": [
    "gcd=cl.load('data/gcd.biom','data/gcd.map.txt')\n",
    "gcd=cl.filtersamples(gcd,'sample_type','biopsy')\n",
    "gcd=cl.filterorigreads(gcd,1000)"
   ]
  },
  {
   "cell_type": "code",
   "execution_count": 66,
   "metadata": {
    "collapsed": false
   },
   "outputs": [
    {
     "data": {
      "text/plain": [
       "3.67489599290082"
      ]
     },
     "execution_count": 66,
     "metadata": {},
     "output_type": "execute_result"
    }
   ],
   "source": [
    "# sparisty\n",
    "(np.count_nonzero(gcd.data)/((np.shape(gcd.data)[0])*(np.shape(gcd.data)[1])))*100"
   ]
  },
  {
   "cell_type": "code",
   "execution_count": 22,
   "metadata": {
    "collapsed": false
   },
   "outputs": [
    {
     "name": "stdout",
     "output_type": "stream",
     "text": [
      "('9511 Bacteria left',)\n",
      "('553 Samples left',)\n",
      "('326 Samples left',)\n",
      "(9511, 879)\n",
      "('method meandiff. number of higher in CD : 266. number of higher in no : 902. total 1168',)\n",
      "('553 Samples left',)\n",
      "('326 Samples left',)\n",
      "(9511, 879)\n",
      "('method meandiff. number of higher in CD : 211. number of higher in no : 763. total 974',)\n",
      "('553 Samples left',)\n",
      "('326 Samples left',)\n",
      "(9511, 879)\n",
      "('method meandiff. number of higher in CD : 0. number of higher in no : 0. total 0',)\n"
     ]
    },
    {
     "data": {
      "text/plain": [
       "<heatsequer.experiment.expclass.Experiment at 0x115ed7780>"
      ]
     },
     "execution_count": 22,
     "metadata": {},
     "output_type": "execute_result"
    }
   ],
   "source": [
    "# no filtering\n",
    "gcd_sub=cl.filterminreads(gcd,0)\n",
    "cl.getpbfdr(gcd_sub,'diagnosis','CD','no',fdrmethod='dsfdr')\n",
    "cl.getpbfdr(gcd_sub,'diagnosis','CD','no',fdrmethod='bhfdr')\n",
    "cl.getpbfdr(gcd_sub,'diagnosis','CD','no',fdrmethod='filterBHfdr')"
   ]
  },
  {
   "cell_type": "code",
   "execution_count": 28,
   "metadata": {
    "collapsed": false
   },
   "outputs": [
    {
     "name": "stdout",
     "output_type": "stream",
     "text": [
      "('4439 Bacteria left',)\n",
      "('553 Samples left',)\n",
      "('326 Samples left',)\n",
      "(4439, 879)\n",
      "('method meandiff. number of higher in CD : 299. number of higher in no : 924. total 1223',)\n",
      "('553 Samples left',)\n",
      "('326 Samples left',)\n",
      "(4439, 879)\n",
      "('method meandiff. number of higher in CD : 280. number of higher in no : 901. total 1181',)\n",
      "('553 Samples left',)\n",
      "('326 Samples left',)\n",
      "(4439, 879)\n",
      "('method meandiff. number of higher in CD : 105. number of higher in no : 433. total 538',)\n"
     ]
    },
    {
     "data": {
      "text/plain": [
       "<heatsequer.experiment.expclass.Experiment at 0x11836b978>"
      ]
     },
     "execution_count": 28,
     "metadata": {},
     "output_type": "execute_result"
    }
   ],
   "source": [
    "# with filtering 5\n",
    "gcd_sub=cl.filterminreads(gcd,5)\n",
    "cl.getpbfdr(gcd_sub,'diagnosis','CD','no',fdrmethod='pbfdr')\n",
    "cl.getpbfdr(gcd_sub,'diagnosis','CD','no',fdrmethod='bhfdr')\n",
    "cl.getpbfdr(gcd_sub,'diagnosis','CD','no',fdrmethod='byfdr')"
   ]
  },
  {
   "cell_type": "markdown",
   "metadata": {},
   "source": [
    "## Dog IBD (Qiita ID: 833)"
   ]
  },
  {
   "cell_type": "code",
   "execution_count": 48,
   "metadata": {
    "collapsed": false
   },
   "outputs": [
    {
     "name": "stdout",
     "output_type": "stream",
     "text": [
      "('Loading biom table data/dibd.biom',)\n",
      "1504fbeb8b8f28a0fcde48d457bdc521\n",
      "('Loading mapping file data/dibd.map.txt',)\n",
      "('number of samples in map is 192',)\n",
      "('number of samples in table is 181',)\n",
      "('removing 0 samples',)\n",
      "('deleted. number of samples in table is now 181',)\n",
      "('removing 11 samples from mapping file',)\n",
      "('number of samples in mapping file is now 181',)\n",
      "('172 Samples left',)\n"
     ]
    }
   ],
   "source": [
    "dibd=cl.load('data/dibd.biom','data/dibd.map.txt')\n",
    "dibd=cl.filterorigreads(dibd,1000)"
   ]
  },
  {
   "cell_type": "code",
   "execution_count": 68,
   "metadata": {
    "collapsed": false
   },
   "outputs": [
    {
     "data": {
      "text/plain": [
       "7.3133767871033495"
      ]
     },
     "execution_count": 68,
     "metadata": {},
     "output_type": "execute_result"
    }
   ],
   "source": [
    "# sparisty\n",
    "(np.count_nonzero(dibd.data)/((np.shape(dibd.data)[0])*(np.shape(dibd.data)[1])))*100"
   ]
  },
  {
   "cell_type": "code",
   "execution_count": 49,
   "metadata": {
    "collapsed": false
   },
   "outputs": [
    {
     "name": "stdout",
     "output_type": "stream",
     "text": [
      "('867 Bacteria left',)\n",
      "('69 Samples left',)\n",
      "('89 Samples left',)\n",
      "(867, 158)\n",
      "('method meandiff. number of higher in IBD : 38. number of higher in healthy : 96. total 134',)\n"
     ]
    },
    {
     "data": {
      "text/plain": [
       "<heatsequer.experiment.expclass.Experiment at 0x1189d7cf8>"
      ]
     },
     "execution_count": 49,
     "metadata": {},
     "output_type": "execute_result"
    }
   ],
   "source": [
    "# with filtering 0\n",
    "dibd_sub=cl.filterminreads(dibd,0)\n",
    "cl.getpbfdr(dibd_sub,'disease_stat','IBD','healthy',fdrmethod='dsfdr')"
   ]
  },
  {
   "cell_type": "code",
   "execution_count": 13,
   "metadata": {
    "collapsed": false
   },
   "outputs": [
    {
     "name": "stdout",
     "output_type": "stream",
     "text": [
      "('836 Bacteria left',)\n",
      "('69 Samples left',)\n",
      "('89 Samples left',)\n",
      "(836, 158)\n",
      "('method meandiff. number of higher in IBD : 40. number of higher in healthy : 98. total 138',)\n",
      "('69 Samples left',)\n",
      "('89 Samples left',)\n",
      "(836, 158)\n",
      "('method meandiff. number of higher in IBD : 22. number of higher in healthy : 70. total 92',)\n",
      "('69 Samples left',)\n",
      "('89 Samples left',)\n",
      "(836, 158)\n",
      "('method meandiff. number of higher in IBD : 0. number of higher in healthy : 0. total 0',)\n"
     ]
    },
    {
     "data": {
      "text/plain": [
       "<heatsequer.experiment.expclass.Experiment at 0x1139a21d0>"
      ]
     },
     "execution_count": 13,
     "metadata": {},
     "output_type": "execute_result"
    }
   ],
   "source": [
    "# with filtering 5\n",
    "dibd_sub=cl.filterminreads(dibd,5)\n",
    "cl.getpbfdr(dibd_sub,'disease_stat','IBD','healthy',fdrmethod='dsfdr')\n",
    "cl.getpbfdr(dibd_sub,'disease_stat','IBD','healthy',fdrmethod='bhfdr')\n",
    "cl.getpbfdr(dibd_sub,'disease_stat','IBD','healthy',fdrmethod='filterBHfdr')"
   ]
  },
  {
   "cell_type": "code",
   "execution_count": 4,
   "metadata": {
    "collapsed": false
   },
   "outputs": [
    {
     "name": "stdout",
     "output_type": "stream",
     "text": [
      "('867 Bacteria left',)\n",
      "('69 Samples left',)\n",
      "('89 Samples left',)\n",
      "(867, 158)\n",
      "('method meandiff. number of higher in IBD : 43. number of higher in healthy : 97. total 140',)\n",
      "('865 Bacteria left',)\n",
      "('69 Samples left',)\n",
      "('89 Samples left',)\n",
      "(865, 158)\n",
      "('method meandiff. number of higher in IBD : 41. number of higher in healthy : 99. total 140',)\n",
      "('865 Bacteria left',)\n",
      "('69 Samples left',)\n",
      "('89 Samples left',)\n",
      "(865, 158)\n",
      "('method meandiff. number of higher in IBD : 40. number of higher in healthy : 97. total 137',)\n",
      "('865 Bacteria left',)\n",
      "('69 Samples left',)\n",
      "('89 Samples left',)\n",
      "(865, 158)\n",
      "('method meandiff. number of higher in IBD : 41. number of higher in healthy : 97. total 138',)\n",
      "('860 Bacteria left',)\n",
      "('69 Samples left',)\n",
      "('89 Samples left',)\n",
      "(860, 158)\n",
      "('method meandiff. number of higher in IBD : 39. number of higher in healthy : 97. total 136',)\n",
      "('836 Bacteria left',)\n",
      "('69 Samples left',)\n",
      "('89 Samples left',)\n",
      "(836, 158)\n",
      "('method meandiff. number of higher in IBD : 36. number of higher in healthy : 96. total 132',)\n",
      "('808 Bacteria left',)\n",
      "('69 Samples left',)\n",
      "('89 Samples left',)\n",
      "(808, 158)\n",
      "('method meandiff. number of higher in IBD : 40. number of higher in healthy : 95. total 135',)\n",
      "('777 Bacteria left',)\n",
      "('69 Samples left',)\n",
      "('89 Samples left',)\n",
      "(777, 158)\n",
      "('method meandiff. number of higher in IBD : 42. number of higher in healthy : 97. total 139',)\n",
      "('748 Bacteria left',)\n",
      "('69 Samples left',)\n",
      "('89 Samples left',)\n",
      "(748, 158)\n",
      "('method meandiff. number of higher in IBD : 43. number of higher in healthy : 98. total 141',)\n",
      "('720 Bacteria left',)\n",
      "('69 Samples left',)\n",
      "('89 Samples left',)\n",
      "(720, 158)\n",
      "('method meandiff. number of higher in IBD : 41. number of higher in healthy : 93. total 134',)\n",
      "('700 Bacteria left',)\n",
      "('69 Samples left',)\n",
      "('89 Samples left',)\n",
      "(700, 158)\n",
      "('method meandiff. number of higher in IBD : 40. number of higher in healthy : 96. total 136',)\n",
      "('570 Bacteria left',)\n",
      "('69 Samples left',)\n",
      "('89 Samples left',)\n",
      "(570, 158)\n",
      "('method meandiff. number of higher in IBD : 43. number of higher in healthy : 99. total 142',)\n",
      "('478 Bacteria left',)\n",
      "('69 Samples left',)\n",
      "('89 Samples left',)\n",
      "(478, 158)\n",
      "('method meandiff. number of higher in IBD : 44. number of higher in healthy : 98. total 142',)\n",
      "('434 Bacteria left',)\n",
      "('69 Samples left',)\n",
      "('89 Samples left',)\n",
      "(434, 158)\n",
      "('method meandiff. number of higher in IBD : 42. number of higher in healthy : 98. total 140',)\n",
      "('395 Bacteria left',)\n",
      "('69 Samples left',)\n",
      "('89 Samples left',)\n",
      "(395, 158)\n",
      "('method meandiff. number of higher in IBD : 42. number of higher in healthy : 95. total 137',)\n",
      "('375 Bacteria left',)\n",
      "('69 Samples left',)\n",
      "('89 Samples left',)\n",
      "(375, 158)\n",
      "('method meandiff. number of higher in IBD : 41. number of higher in healthy : 96. total 137',)\n",
      "('354 Bacteria left',)\n",
      "('69 Samples left',)\n",
      "('89 Samples left',)\n",
      "(354, 158)\n",
      "('method meandiff. number of higher in IBD : 43. number of higher in healthy : 94. total 137',)\n",
      "('342 Bacteria left',)\n",
      "('69 Samples left',)\n",
      "('89 Samples left',)\n",
      "(342, 158)\n",
      "('method meandiff. number of higher in IBD : 40. number of higher in healthy : 90. total 130',)\n",
      "('322 Bacteria left',)\n",
      "('69 Samples left',)\n",
      "('89 Samples left',)\n",
      "(322, 158)\n",
      "('method meandiff. number of higher in IBD : 41. number of higher in healthy : 91. total 132',)\n",
      "('308 Bacteria left',)\n",
      "('69 Samples left',)\n",
      "('89 Samples left',)\n",
      "(308, 158)\n",
      "('method meandiff. number of higher in IBD : 40. number of higher in healthy : 90. total 130',)\n",
      "('228 Bacteria left',)\n",
      "('69 Samples left',)\n",
      "('89 Samples left',)\n",
      "(228, 158)\n",
      "('method meandiff. number of higher in IBD : 33. number of higher in healthy : 85. total 118',)\n",
      "('194 Bacteria left',)\n",
      "('69 Samples left',)\n",
      "('89 Samples left',)\n",
      "(194, 158)\n",
      "('method meandiff. number of higher in IBD : 30. number of higher in healthy : 80. total 110',)\n",
      "('170 Bacteria left',)\n",
      "('69 Samples left',)\n",
      "('89 Samples left',)\n",
      "(170, 158)\n",
      "('method meandiff. number of higher in IBD : 28. number of higher in healthy : 77. total 105',)\n",
      "('157 Bacteria left',)\n",
      "('69 Samples left',)\n",
      "('89 Samples left',)\n",
      "(157, 158)\n",
      "('method meandiff. number of higher in IBD : 27. number of higher in healthy : 72. total 99',)\n"
     ]
    }
   ],
   "source": [
    "# vary the filtering level for pbfdr\n",
    "filtlev = [0, 1,2,3,4,5,6,7,8,9,10,20,30,40,50,60,70,80,90,100,200,300,400,500]\n",
    "for i in filtlev:\n",
    "    dibd_sub=cl.filterminreads(dibd,i)\n",
    "    dibd_pb=cl.getpbfdr(dibd_sub,'disease_stat','IBD','healthy',fdrmethod='dsfdr')"
   ]
  },
  {
   "cell_type": "code",
   "execution_count": 8,
   "metadata": {
    "collapsed": false
   },
   "outputs": [
    {
     "name": "stdout",
     "output_type": "stream",
     "text": [
      "('867 Bacteria left',)\n",
      "('69 Samples left',)\n",
      "('89 Samples left',)\n",
      "(867, 158)\n",
      "('method meandiff. number of higher in IBD : 22. number of higher in healthy : 74. total 96',)\n",
      "('865 Bacteria left',)\n",
      "('69 Samples left',)\n",
      "('89 Samples left',)\n",
      "(865, 158)\n",
      "('method meandiff. number of higher in IBD : 21. number of higher in healthy : 71. total 92',)\n",
      "('865 Bacteria left',)\n",
      "('69 Samples left',)\n",
      "('89 Samples left',)\n",
      "(865, 158)\n",
      "('method meandiff. number of higher in IBD : 21. number of higher in healthy : 70. total 91',)\n",
      "('865 Bacteria left',)\n",
      "('69 Samples left',)\n",
      "('89 Samples left',)\n",
      "(865, 158)\n",
      "('method meandiff. number of higher in IBD : 23. number of higher in healthy : 71. total 94',)\n",
      "('860 Bacteria left',)\n",
      "('69 Samples left',)\n",
      "('89 Samples left',)\n",
      "(860, 158)\n",
      "('method meandiff. number of higher in IBD : 21. number of higher in healthy : 70. total 91',)\n",
      "('836 Bacteria left',)\n",
      "('69 Samples left',)\n",
      "('89 Samples left',)\n",
      "(836, 158)\n",
      "('method meandiff. number of higher in IBD : 22. number of higher in healthy : 72. total 94',)\n",
      "('808 Bacteria left',)\n",
      "('69 Samples left',)\n",
      "('89 Samples left',)\n",
      "(808, 158)\n",
      "('method meandiff. number of higher in IBD : 22. number of higher in healthy : 70. total 92',)\n",
      "('777 Bacteria left',)\n",
      "('69 Samples left',)\n",
      "('89 Samples left',)\n",
      "(777, 158)\n",
      "('method meandiff. number of higher in IBD : 21. number of higher in healthy : 71. total 92',)\n",
      "('748 Bacteria left',)\n",
      "('69 Samples left',)\n",
      "('89 Samples left',)\n",
      "(748, 158)\n",
      "('method meandiff. number of higher in IBD : 23. number of higher in healthy : 75. total 98',)\n",
      "('720 Bacteria left',)\n",
      "('69 Samples left',)\n",
      "('89 Samples left',)\n",
      "(720, 158)\n",
      "('method meandiff. number of higher in IBD : 23. number of higher in healthy : 75. total 98',)\n",
      "('700 Bacteria left',)\n",
      "('69 Samples left',)\n",
      "('89 Samples left',)\n",
      "(700, 158)\n",
      "('method meandiff. number of higher in IBD : 21. number of higher in healthy : 74. total 95',)\n",
      "('570 Bacteria left',)\n",
      "('69 Samples left',)\n",
      "('89 Samples left',)\n",
      "(570, 158)\n",
      "('method meandiff. number of higher in IBD : 24. number of higher in healthy : 79. total 103',)\n",
      "('478 Bacteria left',)\n",
      "('69 Samples left',)\n",
      "('89 Samples left',)\n",
      "(478, 158)\n",
      "('method meandiff. number of higher in IBD : 29. number of higher in healthy : 84. total 113',)\n",
      "('434 Bacteria left',)\n",
      "('69 Samples left',)\n",
      "('89 Samples left',)\n",
      "(434, 158)\n",
      "('method meandiff. number of higher in IBD : 31. number of higher in healthy : 85. total 116',)\n",
      "('395 Bacteria left',)\n",
      "('69 Samples left',)\n",
      "('89 Samples left',)\n",
      "(395, 158)\n",
      "('method meandiff. number of higher in IBD : 32. number of higher in healthy : 83. total 115',)\n",
      "('375 Bacteria left',)\n",
      "('69 Samples left',)\n",
      "('89 Samples left',)\n",
      "(375, 158)\n",
      "('method meandiff. number of higher in IBD : 35. number of higher in healthy : 85. total 120',)\n",
      "('354 Bacteria left',)\n",
      "('69 Samples left',)\n",
      "('89 Samples left',)\n",
      "(354, 158)\n",
      "('method meandiff. number of higher in IBD : 34. number of higher in healthy : 85. total 119',)\n",
      "('342 Bacteria left',)\n",
      "('69 Samples left',)\n",
      "('89 Samples left',)\n",
      "(342, 158)\n",
      "('method meandiff. number of higher in IBD : 38. number of higher in healthy : 85. total 123',)\n",
      "('322 Bacteria left',)\n",
      "('69 Samples left',)\n",
      "('89 Samples left',)\n",
      "(322, 158)\n",
      "('method meandiff. number of higher in IBD : 36. number of higher in healthy : 82. total 118',)\n",
      "('308 Bacteria left',)\n",
      "('69 Samples left',)\n",
      "('89 Samples left',)\n",
      "(308, 158)\n",
      "('method meandiff. number of higher in IBD : 36. number of higher in healthy : 84. total 120',)\n",
      "('228 Bacteria left',)\n",
      "('69 Samples left',)\n",
      "('89 Samples left',)\n",
      "(228, 158)\n",
      "('method meandiff. number of higher in IBD : 30. number of higher in healthy : 83. total 113',)\n",
      "('194 Bacteria left',)\n",
      "('69 Samples left',)\n",
      "('89 Samples left',)\n",
      "(194, 158)\n",
      "('method meandiff. number of higher in IBD : 29. number of higher in healthy : 78. total 107',)\n",
      "('170 Bacteria left',)\n",
      "('69 Samples left',)\n",
      "('89 Samples left',)\n",
      "(170, 158)\n",
      "('method meandiff. number of higher in IBD : 28. number of higher in healthy : 77. total 105',)\n",
      "('157 Bacteria left',)\n",
      "('69 Samples left',)\n",
      "('89 Samples left',)\n",
      "(157, 158)\n",
      "('method meandiff. number of higher in IBD : 27. number of higher in healthy : 71. total 98',)\n"
     ]
    }
   ],
   "source": [
    "# vary the filtering level for bhfdr\n",
    "filtlev = [0, 1,2,3,4,5,6,7,8,9,10,20,30,40,50,60,70,80,90,100,200,300,400,500]\n",
    "for i in filtlev:\n",
    "    dibd_sub=hs.filterminreads(dibd,i)\n",
    "    dibd_pb=hs.getpbfdr(dibd_sub,'disease_stat','IBD','healthy',fdrmethod='bhfdr')"
   ]
  },
  {
   "cell_type": "code",
   "execution_count": 7,
   "metadata": {
    "collapsed": false
   },
   "outputs": [
    {
     "name": "stdout",
     "output_type": "stream",
     "text": [
      "('867 Bacteria left',)\n",
      "('69 Samples left',)\n",
      "('89 Samples left',)\n",
      "(867, 158)\n",
      "('method meandiff. number of higher in IBD : 0. number of higher in healthy : 0. total 0',)\n",
      "('865 Bacteria left',)\n",
      "('69 Samples left',)\n",
      "('89 Samples left',)\n",
      "(865, 158)\n",
      "('method meandiff. number of higher in IBD : 0. number of higher in healthy : 0. total 0',)\n",
      "('865 Bacteria left',)\n",
      "('69 Samples left',)\n",
      "('89 Samples left',)\n",
      "(865, 158)\n",
      "('method meandiff. number of higher in IBD : 0. number of higher in healthy : 0. total 0',)\n",
      "('865 Bacteria left',)\n",
      "('69 Samples left',)\n",
      "('89 Samples left',)\n",
      "(865, 158)\n",
      "('method meandiff. number of higher in IBD : 16. number of higher in healthy : 48. total 64',)\n",
      "('860 Bacteria left',)\n",
      "('69 Samples left',)\n",
      "('89 Samples left',)\n",
      "(860, 158)\n",
      "('method meandiff. number of higher in IBD : 0. number of higher in healthy : 0. total 0',)\n",
      "('836 Bacteria left',)\n",
      "('69 Samples left',)\n",
      "('89 Samples left',)\n",
      "(836, 158)\n",
      "('method meandiff. number of higher in IBD : 14. number of higher in healthy : 48. total 62',)\n",
      "('808 Bacteria left',)\n",
      "('69 Samples left',)\n",
      "('89 Samples left',)\n",
      "(808, 158)\n",
      "('method meandiff. number of higher in IBD : 14. number of higher in healthy : 45. total 59',)\n",
      "('777 Bacteria left',)\n",
      "('69 Samples left',)\n",
      "('89 Samples left',)\n",
      "(777, 158)\n",
      "('method meandiff. number of higher in IBD : 15. number of higher in healthy : 47. total 62',)\n",
      "('748 Bacteria left',)\n",
      "('69 Samples left',)\n",
      "('89 Samples left',)\n",
      "(748, 158)\n",
      "('method meandiff. number of higher in IBD : 14. number of higher in healthy : 47. total 61',)\n",
      "('720 Bacteria left',)\n",
      "('69 Samples left',)\n",
      "('89 Samples left',)\n",
      "(720, 158)\n",
      "('method meandiff. number of higher in IBD : 17. number of higher in healthy : 46. total 63',)\n",
      "('700 Bacteria left',)\n",
      "('69 Samples left',)\n",
      "('89 Samples left',)\n",
      "(700, 158)\n",
      "('method meandiff. number of higher in IBD : 14. number of higher in healthy : 49. total 63',)\n",
      "('570 Bacteria left',)\n",
      "('69 Samples left',)\n",
      "('89 Samples left',)\n",
      "(570, 158)\n",
      "('method meandiff. number of higher in IBD : 16. number of higher in healthy : 47. total 63',)\n",
      "('478 Bacteria left',)\n",
      "('69 Samples left',)\n",
      "('89 Samples left',)\n",
      "(478, 158)\n",
      "('method meandiff. number of higher in IBD : 16. number of higher in healthy : 53. total 69',)\n",
      "('434 Bacteria left',)\n",
      "('69 Samples left',)\n",
      "('89 Samples left',)\n",
      "(434, 158)\n",
      "('method meandiff. number of higher in IBD : 18. number of higher in healthy : 54. total 72',)\n",
      "('395 Bacteria left',)\n",
      "('69 Samples left',)\n",
      "('89 Samples left',)\n",
      "(395, 158)\n",
      "('method meandiff. number of higher in IBD : 17. number of higher in healthy : 51. total 68',)\n",
      "('375 Bacteria left',)\n",
      "('69 Samples left',)\n",
      "('89 Samples left',)\n",
      "(375, 158)\n",
      "('method meandiff. number of higher in IBD : 19. number of higher in healthy : 56. total 75',)\n",
      "('354 Bacteria left',)\n",
      "('69 Samples left',)\n",
      "('89 Samples left',)\n",
      "(354, 158)\n",
      "('method meandiff. number of higher in IBD : 19. number of higher in healthy : 62. total 81',)\n",
      "('342 Bacteria left',)\n",
      "('69 Samples left',)\n",
      "('89 Samples left',)\n",
      "(342, 158)\n",
      "('method meandiff. number of higher in IBD : 20. number of higher in healthy : 57. total 77',)\n",
      "('322 Bacteria left',)\n",
      "('69 Samples left',)\n",
      "('89 Samples left',)\n",
      "(322, 158)\n",
      "('method meandiff. number of higher in IBD : 19. number of higher in healthy : 57. total 76',)\n",
      "('308 Bacteria left',)\n",
      "('69 Samples left',)\n",
      "('89 Samples left',)\n",
      "(308, 158)\n",
      "('method meandiff. number of higher in IBD : 18. number of higher in healthy : 54. total 72',)\n",
      "('228 Bacteria left',)\n",
      "('69 Samples left',)\n",
      "('89 Samples left',)\n",
      "(228, 158)\n",
      "('method meandiff. number of higher in IBD : 19. number of higher in healthy : 58. total 77',)\n",
      "('194 Bacteria left',)\n",
      "('69 Samples left',)\n",
      "('89 Samples left',)\n",
      "(194, 158)\n",
      "('method meandiff. number of higher in IBD : 17. number of higher in healthy : 56. total 73',)\n",
      "('170 Bacteria left',)\n",
      "('69 Samples left',)\n",
      "('89 Samples left',)\n",
      "(170, 158)\n",
      "('method meandiff. number of higher in IBD : 17. number of higher in healthy : 56. total 73',)\n",
      "('157 Bacteria left',)\n",
      "('69 Samples left',)\n",
      "('89 Samples left',)\n",
      "(157, 158)\n",
      "('method meandiff. number of higher in IBD : 15. number of higher in healthy : 54. total 69',)\n"
     ]
    }
   ],
   "source": [
    "# vary the filtering level for byfdr\n",
    "filtlev = [0, 1,2,3,4,5,6,7,8,9,10,20,30,40,50,60,70,80,90,100,200,300,400,500]\n",
    "for i in filtlev:\n",
    "    dibd_sub=hs.filterminreads(dibd,i)\n",
    "    dibd_pb=hs.getpbfdr(dibd_sub,'disease_stat','IBD','healthy',fdrmethod='byfdr')"
   ]
  },
  {
   "cell_type": "markdown",
   "metadata": {},
   "source": [
    "## soil plant selenium (Qiita ID: 10363)"
   ]
  },
  {
   "cell_type": "code",
   "execution_count": 50,
   "metadata": {
    "collapsed": false
   },
   "outputs": [
    {
     "name": "stdout",
     "output_type": "stream",
     "text": [
      "('Loading biom table data/sps.biom',)\n",
      "69a3165971f004846f4c315d5586c030\n",
      "('Loading mapping file data/sps.map.txt',)\n",
      "('number of samples in map is 64',)\n",
      "('number of samples in table is 61',)\n",
      "('removing 0 samples',)\n",
      "('deleted. number of samples in table is now 61',)\n",
      "('removing 3 samples from mapping file',)\n",
      "('number of samples in mapping file is now 61',)\n",
      "('59 Samples left',)\n"
     ]
    }
   ],
   "source": [
    "sps=hs.load('data/sps.biom','data/sps.map.txt')\n",
    "sps=hs.filterorigreads(sps,1000)"
   ]
  },
  {
   "cell_type": "code",
   "execution_count": 70,
   "metadata": {
    "collapsed": false
   },
   "outputs": [
    {
     "data": {
      "text/plain": [
       "6.10188482763605"
      ]
     },
     "execution_count": 70,
     "metadata": {},
     "output_type": "execute_result"
    }
   ],
   "source": [
    "# sparisty\n",
    "(np.count_nonzero(sps.data)/((np.shape(sps.data)[0])*(np.shape(sps.data)[1])))*100"
   ]
  },
  {
   "cell_type": "code",
   "execution_count": 51,
   "metadata": {
    "collapsed": false
   },
   "outputs": [
    {
     "name": "stdout",
     "output_type": "stream",
     "text": [
      "('64258 Bacteria left',)\n",
      "('34 Samples left',)\n",
      "('24 Samples left',)\n",
      "(64258, 58)\n",
      "('method meandiff. number of higher in TRUE : 2921. number of higher in FALSE : 4342. total 7263',)\n"
     ]
    },
    {
     "data": {
      "text/plain": [
       "<heatsequer.experiment.expclass.Experiment at 0x1189d53c8>"
      ]
     },
     "execution_count": 51,
     "metadata": {},
     "output_type": "execute_result"
    }
   ],
   "source": [
    "# with filtering 0\n",
    "sps_sub=hs.filterminreads(sps,0)\n",
    "hs.getpbfdr(sps_sub,'seleniferous','TRUE','FALSE',fdrmethod='pbfdr')"
   ]
  },
  {
   "cell_type": "code",
   "execution_count": 74,
   "metadata": {
    "collapsed": false
   },
   "outputs": [
    {
     "name": "stdout",
     "output_type": "stream",
     "text": [
      "('11548 Bacteria left',)\n",
      "('34 Samples left',)\n",
      "('24 Samples left',)\n",
      "(11548, 58)\n",
      "('method meandiff. number of higher in TRUE : 3116. number of higher in FALSE : 3176. total 6292',)\n",
      "('34 Samples left',)\n",
      "('24 Samples left',)\n",
      "(11548, 58)\n",
      "('method meandiff. number of higher in TRUE : 2807. number of higher in FALSE : 3035. total 5842',)\n",
      "('34 Samples left',)\n",
      "('24 Samples left',)\n",
      "(11548, 58)\n",
      "('method meandiff. number of higher in TRUE : 1224. number of higher in FALSE : 1568. total 2792',)\n"
     ]
    },
    {
     "data": {
      "text/plain": [
       "<heatsequer.experiment.expclass.Experiment at 0x11b62fa58>"
      ]
     },
     "execution_count": 74,
     "metadata": {},
     "output_type": "execute_result"
    }
   ],
   "source": [
    "# with filtering 5\n",
    "sps_sub=hs.filterminreads(sps,5)\n",
    "hs.getpbfdr(sps_sub,'seleniferous','TRUE','FALSE',fdrmethod='pbfdr')\n",
    "hs.getpbfdr(sps_sub,'seleniferous','TRUE','FALSE',fdrmethod='bhfdr')\n",
    "hs.getpbfdr(sps_sub,'seleniferous','TRUE','FALSE',fdrmethod='byfdr')"
   ]
  },
  {
   "cell_type": "code",
   "execution_count": 75,
   "metadata": {
    "collapsed": false
   },
   "outputs": [
    {
     "name": "stdout",
     "output_type": "stream",
     "text": [
      "('7015 Bacteria left',)\n",
      "('34 Samples left',)\n",
      "('24 Samples left',)\n",
      "(7015, 58)\n",
      "('method meandiff. number of higher in TRUE : 2308. number of higher in FALSE : 2038. total 4346',)\n",
      "('34 Samples left',)\n",
      "('24 Samples left',)\n",
      "(7015, 58)\n",
      "('method meandiff. number of higher in TRUE : 2227. number of higher in FALSE : 1991. total 4218',)\n",
      "('34 Samples left',)\n",
      "('24 Samples left',)\n",
      "(7015, 58)\n",
      "('method meandiff. number of higher in TRUE : 1348. number of higher in FALSE : 1401. total 2749',)\n"
     ]
    },
    {
     "data": {
      "text/plain": [
       "<heatsequer.experiment.expclass.Experiment at 0x11b62f208>"
      ]
     },
     "execution_count": 75,
     "metadata": {},
     "output_type": "execute_result"
    }
   ],
   "source": [
    "# with filtering 10\n",
    "sps_sub=hs.filterminreads(sps,10)\n",
    "hs.getpbfdr(sps_sub,'seleniferous','TRUE','FALSE',fdrmethod='pbfdr')\n",
    "hs.getpbfdr(sps_sub,'seleniferous','TRUE','FALSE',fdrmethod='bhfdr')\n",
    "hs.getpbfdr(sps_sub,'seleniferous','TRUE','FALSE',fdrmethod='byfdr')"
   ]
  },
  {
   "cell_type": "code",
   "execution_count": null,
   "metadata": {
    "collapsed": true
   },
   "outputs": [],
   "source": [
    "filtlev = [1,2,3,4,5,6,7,8,9,10,20,30,40,50,60,70,80,90,100,200,300,400,500]\n",
    "for i in filtlev:\n",
    "    sps_sub=hs.filterminreads(sps,i)\n",
    "    ddpb=hs.getpbfdr(sps_sub,'seleniferous','TRUE','FALSE',fdrmethod='pbfdr')"
   ]
  },
  {
   "cell_type": "code",
   "execution_count": null,
   "metadata": {
    "collapsed": true
   },
   "outputs": [],
   "source": [
    "filtlev = [1,2,3,4,5,6,7,8,9,10,20,30,40,50,60,70,80,90,100,200,300,400,500]\n",
    "for i in filtlev:\n",
    "    sps_sub=hs.filterminreads(sps,i)\n",
    "    ddbh=hs.getpbfdr(sps_sub,'seleniferous','TRUE','FALSE',fdrmethod='bhfdr')"
   ]
  },
  {
   "cell_type": "code",
   "execution_count": null,
   "metadata": {
    "collapsed": true
   },
   "outputs": [],
   "source": [
    "filtlev = [1,2,3,4,5,6,7,8,9,10,20,30,40,50,60,70,80,90,100,200,300,400,500]\n",
    "for i in filtlev:\n",
    "    sps_sub=hs.filterminreads(sps,i)\n",
    "    ddby=hs.getpbfdr(sps_sub,'seleniferous','TRUE','FALSE',fdrmethod='byfdr')"
   ]
  },
  {
   "cell_type": "markdown",
   "metadata": {},
   "source": [
    "## CFS data "
   ]
  },
  {
   "cell_type": "code",
   "execution_count": 46,
   "metadata": {
    "collapsed": false
   },
   "outputs": [
    {
     "name": "stdout",
     "output_type": "stream",
     "text": [
      "('Loading biom table data/cfs.biom',)\n",
      "9fa13c605916581567591a09a1b0eb33\n",
      "('Loading mapping file data/cfs.map.txt',)\n",
      "('number of samples in map is 88',)\n",
      "('number of samples in table is 87',)\n",
      "('removing 0 samples',)\n",
      "('deleted. number of samples in table is now 87',)\n",
      "('removing 1 samples from mapping file',)\n",
      "('number of samples in mapping file is now 87',)\n",
      "('87 Samples left',)\n"
     ]
    }
   ],
   "source": [
    "cfs=hs.load('data/cfs.biom','data/cfs.map.txt')\n",
    "cfs=hs.filterorigreads(cfs,1000)"
   ]
  },
  {
   "cell_type": "code",
   "execution_count": 45,
   "metadata": {
    "collapsed": false
   },
   "outputs": [
    {
     "data": {
      "text/plain": [
       "5.162525413136515"
      ]
     },
     "execution_count": 45,
     "metadata": {},
     "output_type": "execute_result"
    }
   ],
   "source": [
    "# sparisty\n",
    "(np.count_nonzero(cfs.data)/((np.shape(cfs.data)[0])*(np.shape(cfs.data)[1])))*100"
   ]
  },
  {
   "cell_type": "code",
   "execution_count": 44,
   "metadata": {
    "collapsed": false
   },
   "outputs": [
    {
     "name": "stdout",
     "output_type": "stream",
     "text": [
      "('5812 Bacteria left',)\n",
      "('39 Samples left',)\n",
      "('48 Samples left',)\n",
      "(5812, 87)\n",
      "('method meandiff. number of higher in Control : 35. number of higher in Patient : 15. total 50',)\n"
     ]
    },
    {
     "data": {
      "text/plain": [
       "<heatsequer.experiment.expclass.Experiment at 0x114e267b8>"
      ]
     },
     "execution_count": 44,
     "metadata": {},
     "output_type": "execute_result"
    }
   ],
   "source": [
    "cfs_sub = hs.filterminreads(cfs,0)\n",
    "hs.getpbfdr(cfs_sub,'Subject','Control','Patient',fdrmethod='pbfdr')"
   ]
  },
  {
   "cell_type": "code",
   "execution_count": 47,
   "metadata": {
    "collapsed": false
   },
   "outputs": [
    {
     "name": "stdout",
     "output_type": "stream",
     "text": [
      "('1399 Bacteria left',)\n",
      "('39 Samples left',)\n",
      "('48 Samples left',)\n",
      "(1399, 87)\n",
      "('method meandiff. number of higher in Control : 36. number of higher in Patient : 18. total 54',)\n",
      "('54 Bacteria left',)\n",
      "('Not using gui',)\n"
     ]
    },
    {
     "data": {
      "image/png": "[encoded data removed]",
      "text/plain": [
       "<matplotlib.figure.Figure at 0x118f00320>"
      ]
     },
     "metadata": {},
     "output_type": "display_data"
    },
    {
     "data": {
      "text/plain": [
       "(<heatsequer.experiment.expclass.Experiment at 0x118f103c8>,\n",
       " <matplotlib.axes._subplots.AxesSubplot at 0x118f187b8>)"
      ]
     },
     "execution_count": 47,
     "metadata": {},
     "output_type": "execute_result"
    }
   ],
   "source": [
    "cfs_sub = hs.filterminreads(cfs,5)\n",
    "cfs_pb = hs.getpbfdr(cfs_sub,'Subject','Control','Patient',fdrmethod='pbfdr')\n",
    "hs.plotexp(cfs_pb,'Subject',usegui=False, showcolorbar=True)"
   ]
  },
  {
   "cell_type": "code",
   "execution_count": 12,
   "metadata": {
    "collapsed": false
   },
   "outputs": [
    {
     "name": "stdout",
     "output_type": "stream",
     "text": [
      "('1399 Bacteria left',)\n",
      "('39 Samples left',)\n",
      "('48 Samples left',)\n",
      "(1399, 87)\n",
      "('method meandiff. number of higher in Control : 34. number of higher in Patient : 19. total 53',)\n",
      "('39 Samples left',)\n",
      "('48 Samples left',)\n",
      "(1399, 87)\n",
      "('method meandiff. number of higher in Control : 0. number of higher in Patient : 0. total 0',)\n",
      "('39 Samples left',)\n",
      "('48 Samples left',)\n",
      "(1399, 87)\n",
      "('method meandiff. number of higher in Control : 0. number of higher in Patient : 0. total 0',)\n"
     ]
    },
    {
     "data": {
      "text/plain": [
       "<heatsequer.experiment.expclass.Experiment at 0x11612e0b8>"
      ]
     },
     "execution_count": 12,
     "metadata": {},
     "output_type": "execute_result"
    }
   ],
   "source": [
    "# with filtering 5\n",
    "cfs_sub = hs.filterminreads(cfs,5)\n",
    "hs.getpbfdr(cfs_sub,'Subject','Control','Patient',fdrmethod='pbfdr')\n",
    "hs.getpbfdr(cfs_sub,'Subject','Control','Patient',fdrmethod='bhfdr')\n",
    "hs.getpbfdr(cfs_sub,'Subject','Control','Patient',fdrmethod='byfdr')"
   ]
  },
  {
   "cell_type": "code",
   "execution_count": 13,
   "metadata": {
    "collapsed": false
   },
   "outputs": [
    {
     "name": "stdout",
     "output_type": "stream",
     "text": [
      "('1101 Bacteria left',)\n",
      "('39 Samples left',)\n",
      "('48 Samples left',)\n",
      "(1101, 87)\n",
      "('method meandiff. number of higher in Control : 37. number of higher in Patient : 16. total 53',)\n",
      "('39 Samples left',)\n",
      "('48 Samples left',)\n",
      "(1101, 87)\n",
      "('method meandiff. number of higher in Control : 25. number of higher in Patient : 9. total 34',)\n",
      "('39 Samples left',)\n",
      "('48 Samples left',)\n",
      "(1101, 87)\n",
      "('method meandiff. number of higher in Control : 0. number of higher in Patient : 0. total 0',)\n"
     ]
    },
    {
     "data": {
      "text/plain": [
       "<heatsequer.experiment.expclass.Experiment at 0x11612e128>"
      ]
     },
     "execution_count": 13,
     "metadata": {},
     "output_type": "execute_result"
    }
   ],
   "source": [
    "# with filtering 10\n",
    "cfs_sub = hs.filterminreads(cfs,10)\n",
    "hs.getpbfdr(cfs_sub,'Subject','Control','Patient',fdrmethod='pbfdr')\n",
    "hs.getpbfdr(cfs_sub,'Subject','Control','Patient',fdrmethod='bhfdr')\n",
    "hs.getpbfdr(cfs_sub,'Subject','Control','Patient',fdrmethod='byfdr')"
   ]
  },
  {
   "cell_type": "markdown",
   "metadata": {},
   "source": [
    "## Soil Human Samples (Qiita ID: 353)"
   ]
  },
  {
   "cell_type": "code",
   "execution_count": null,
   "metadata": {
    "collapsed": true
   },
   "outputs": [],
   "source": [
    "*** many differences: which one to choose?"
   ]
  },
  {
   "cell_type": "code",
   "execution_count": 11,
   "metadata": {
    "collapsed": false
   },
   "outputs": [
    {
     "name": "stdout",
     "output_type": "stream",
     "text": [
      "('Loading biom table data/shs.biom',)\n",
      "378f61fe237a40c6ee50d4816d8c729e\n",
      "('Loading mapping file data/shs.map.txt',)\n",
      "('number of samples in map is 144',)\n",
      "('number of samples in table is 144',)\n",
      "('removing 0 samples',)\n",
      "('deleted. number of samples in table is now 144',)\n",
      "('number of samples in mapping file is now 144',)\n",
      "('144 Samples left',)\n"
     ]
    }
   ],
   "source": [
    "shs=hs.load('data/shs.biom','data/shs.map.txt')\n",
    "shs=hs.filterorigreads(shs,1000)"
   ]
  },
  {
   "cell_type": "code",
   "execution_count": 12,
   "metadata": {
    "collapsed": false
   },
   "outputs": [
    {
     "data": {
      "text/plain": [
       "4.531210986267166"
      ]
     },
     "execution_count": 12,
     "metadata": {},
     "output_type": "execute_result"
    }
   ],
   "source": [
    "# sparisty\n",
    "(np.count_nonzero(shs.data)/((np.shape(shs.data)[0])*(np.shape(shs.data)[1])))*100"
   ]
  },
  {
   "cell_type": "code",
   "execution_count": 36,
   "metadata": {
    "collapsed": false
   },
   "outputs": [
    {
     "name": "stdout",
     "output_type": "stream",
     "text": [
      "('6143 Bacteria left',)\n",
      "('97 Samples left',)\n",
      "('47 Samples left',)\n",
      "(6143, 144)\n",
      "('method meandiff. number of higher in ENVO:human-associated habitat : 722. number of higher in ENVO:soil : 1966. total 2688',)\n",
      "('97 Samples left',)\n",
      "('47 Samples left',)\n",
      "(6143, 144)\n",
      "('method meandiff. number of higher in ENVO:human-associated habitat : 566. number of higher in ENVO:soil : 1840. total 2406',)\n",
      "('97 Samples left',)\n",
      "('47 Samples left',)\n",
      "(6143, 144)\n",
      "('method meandiff. number of higher in ENVO:human-associated habitat : 299. number of higher in ENVO:soil : 1126. total 1425',)\n"
     ]
    },
    {
     "data": {
      "text/plain": [
       "<heatsequer.experiment.expclass.Experiment at 0x117378978>"
      ]
     },
     "execution_count": 36,
     "metadata": {},
     "output_type": "execute_result"
    }
   ],
   "source": [
    "# use this for paper\n",
    "shs_sub = hs.filterminreads(shs,5)\n",
    "hs.getpbfdr(shs_sub,'env_feature','ENVO:human-associated habitat','ENVO:soil',fdrmethod='pbfdr')\n",
    "hs.getpbfdr(shs_sub,'env_feature','ENVO:human-associated habitat','ENVO:soil',fdrmethod='bhfdr')\n",
    "hs.getpbfdr(shs_sub,'env_feature','ENVO:human-associated habitat','ENVO:soil',fdrmethod='byfdr')"
   ]
  },
  {
   "cell_type": "code",
   "execution_count": 39,
   "metadata": {
    "collapsed": false
   },
   "outputs": [
    {
     "name": "stdout",
     "output_type": "stream",
     "text": [
      "('6143 Bacteria left',)\n",
      "('49 Samples left',)\n",
      "('48 Samples left',)\n",
      "(6143, 97)\n",
      "('method meandiff. number of higher in UBERON:feces : 735. number of higher in UBERON:sebum : 241. total 976',)\n",
      "('49 Samples left',)\n",
      "('48 Samples left',)\n",
      "(6143, 97)\n",
      "('method meandiff. number of higher in UBERON:feces : 518. number of higher in UBERON:sebum : 164. total 682',)\n",
      "('49 Samples left',)\n",
      "('48 Samples left',)\n",
      "(6143, 97)\n",
      "('method meandiff. number of higher in UBERON:feces : 0. number of higher in UBERON:sebum : 0. total 0',)\n"
     ]
    },
    {
     "data": {
      "text/plain": [
       "<heatsequer.experiment.expclass.Experiment at 0x117378c88>"
      ]
     },
     "execution_count": 39,
     "metadata": {},
     "output_type": "execute_result"
    }
   ],
   "source": [
    "shs_sub = hs.filterminreads(shs,5)\n",
    "hs.getpbfdr(shs_sub,'body_product','UBERON:feces','UBERON:sebum',fdrmethod='pbfdr')\n",
    "hs.getpbfdr(shs_sub,'body_product','UBERON:feces','UBERON:sebum',fdrmethod='bhfdr')\n",
    "hs.getpbfdr(shs_sub,'body_product','UBERON:feces','UBERON:sebum',fdrmethod='byfdr')"
   ]
  },
  {
   "cell_type": "code",
   "execution_count": 40,
   "metadata": {
    "collapsed": false
   },
   "outputs": [
    {
     "name": "stdout",
     "output_type": "stream",
     "text": [
      "('6143 Bacteria left',)\n",
      "('48 Samples left',)\n",
      "('48 Samples left',)\n",
      "(6143, 96)\n",
      "('method meandiff. number of higher in human gut metagenome : 743. number of higher in human skin metagenome : 208. total 951',)\n",
      "('48 Samples left',)\n",
      "('48 Samples left',)\n",
      "(6143, 96)\n",
      "('method meandiff. number of higher in human gut metagenome : 519. number of higher in human skin metagenome : 145. total 664',)\n",
      "('48 Samples left',)\n",
      "('48 Samples left',)\n",
      "(6143, 96)\n",
      "('method meandiff. number of higher in human gut metagenome : 0. number of higher in human skin metagenome : 0. total 0',)\n"
     ]
    },
    {
     "data": {
      "text/plain": [
       "<heatsequer.experiment.expclass.Experiment at 0x117378c50>"
      ]
     },
     "execution_count": 40,
     "metadata": {},
     "output_type": "execute_result"
    }
   ],
   "source": [
    "shs_sub = hs.filterminreads(shs,5)\n",
    "hs.getpbfdr(shs_sub,'common_name','human gut metagenome','human skin metagenome',fdrmethod='pbfdr')\n",
    "hs.getpbfdr(shs_sub,'common_name','human gut metagenome','human skin metagenome',fdrmethod='bhfdr')\n",
    "hs.getpbfdr(shs_sub,'common_name','human gut metagenome','human skin metagenome',fdrmethod='byfdr')"
   ]
  },
  {
   "cell_type": "code",
   "execution_count": 41,
   "metadata": {
    "collapsed": false
   },
   "outputs": [
    {
     "name": "stdout",
     "output_type": "stream",
     "text": [
      "('6143 Bacteria left',)\n",
      "('48 Samples left',)\n",
      "('48 Samples left',)\n",
      "(6143, 96)\n",
      "('method meandiff. number of higher in soil metagenome : 1365. number of higher in human skin metagenome : 240. total 1605',)\n",
      "('48 Samples left',)\n",
      "('48 Samples left',)\n",
      "(6143, 96)\n",
      "('method meandiff. number of higher in soil metagenome : 1041. number of higher in human skin metagenome : 180. total 1221',)\n",
      "('48 Samples left',)\n",
      "('48 Samples left',)\n",
      "(6143, 96)\n",
      "('method meandiff. number of higher in soil metagenome : 675. number of higher in human skin metagenome : 121. total 796',)\n"
     ]
    },
    {
     "data": {
      "text/plain": [
       "<heatsequer.experiment.expclass.Experiment at 0x117378e10>"
      ]
     },
     "execution_count": 41,
     "metadata": {},
     "output_type": "execute_result"
    }
   ],
   "source": [
    "shs_sub = hs.filterminreads(shs,5)\n",
    "hs.getpbfdr(shs_sub,'common_name','soil metagenome','human skin metagenome',fdrmethod='pbfdr')\n",
    "hs.getpbfdr(shs_sub,'common_name','soil metagenome','human skin metagenome',fdrmethod='bhfdr')\n",
    "hs.getpbfdr(shs_sub,'common_name','soil metagenome','human skin metagenome',fdrmethod='byfdr')"
   ]
  },
  {
   "cell_type": "markdown",
   "metadata": {
    "collapsed": true
   },
   "source": [
    "## Mice Lacking Toil-like Receptor (Qitta ID: 460)"
   ]
  },
  {
   "cell_type": "code",
   "execution_count": null,
   "metadata": {
    "collapsed": true
   },
   "outputs": [],
   "source": [
    "# small samples: 5 vs.4"
   ]
  },
  {
   "cell_type": "code",
   "execution_count": 33,
   "metadata": {
    "collapsed": false
   },
   "outputs": [
    {
     "name": "stdout",
     "output_type": "stream",
     "text": [
      "('Loading biom table data/mlt.biom',)\n",
      "1caa41e8cc30c6bf178eb5865ee086af\n",
      "('Loading mapping file data/mlt.map.txt',)\n",
      "('number of samples in map is 9',)\n",
      "('number of samples in table is 9',)\n",
      "('removing 0 samples',)\n",
      "('deleted. number of samples in table is now 9',)\n",
      "('number of samples in mapping file is now 9',)\n",
      "('8 Samples left',)\n"
     ]
    }
   ],
   "source": [
    "mlt=hs.load('data/mlt.biom','data/mlt.map.txt')\n",
    "mlt=hs.filterorigreads(mlt,1000)"
   ]
  },
  {
   "cell_type": "code",
   "execution_count": 15,
   "metadata": {
    "collapsed": false
   },
   "outputs": [
    {
     "data": {
      "text/plain": [
       "32.709251101321584"
      ]
     },
     "execution_count": 15,
     "metadata": {},
     "output_type": "execute_result"
    }
   ],
   "source": [
    "# sparisty\n",
    "(np.count_nonzero(mlt.data)/((np.shape(mlt.data)[0])*(np.shape(mlt.data)[1])))*100"
   ]
  },
  {
   "cell_type": "code",
   "execution_count": 5,
   "metadata": {
    "collapsed": false
   },
   "outputs": [
    {
     "name": "stdout",
     "output_type": "stream",
     "text": [
      "('908 Bacteria left',)\n",
      "('5 Samples left',)\n",
      "('3 Samples left',)\n",
      "(908, 8)\n",
      "('method meandiff. number of higher in mouse cecum, TLR5 knockout : 0. number of higher in mouse cecum, wild type : 41. total 41',)\n",
      "('5 Samples left',)\n",
      "('3 Samples left',)\n",
      "(908, 8)\n",
      "('method meandiff. number of higher in mouse cecum, TLR5 knockout : 0. number of higher in mouse cecum, wild type : 0. total 0',)\n",
      "('5 Samples left',)\n",
      "('3 Samples left',)\n",
      "(908, 8)\n",
      "('method meandiff. number of higher in mouse cecum, TLR5 knockout : 0. number of higher in mouse cecum, wild type : 0. total 0',)\n"
     ]
    },
    {
     "data": {
      "text/plain": [
       "<heatsequer.experiment.expclass.Experiment at 0x116e5c208>"
      ]
     },
     "execution_count": 5,
     "metadata": {},
     "output_type": "execute_result"
    }
   ],
   "source": [
    "mlt_sub = hs.filterminreads(mlt,0)\n",
    "hs.getpbfdr(mlt_sub,'Description','mouse cecum, TLR5 knockout','mouse cecum, wild type',fdrmethod='pbfdr')\n",
    "hs.getpbfdr(mlt_sub,'Description','mouse cecum, TLR5 knockout','mouse cecum, wild type',fdrmethod='bhfdr')\n",
    "hs.getpbfdr(mlt_sub,'Description','mouse cecum, TLR5 knockout','mouse cecum, wild type',fdrmethod='byfdr')"
   ]
  },
  {
   "cell_type": "code",
   "execution_count": 42,
   "metadata": {
    "collapsed": false
   },
   "outputs": [
    {
     "name": "stdout",
     "output_type": "stream",
     "text": [
      "('580 Bacteria left',)\n",
      "('5 Samples left',)\n",
      "('3 Samples left',)\n",
      "(580, 8)\n",
      "('method meandiff. number of higher in mouse cecum, TLR5 knockout : 0. number of higher in mouse cecum, wild type : 41. total 41',)\n",
      "('5 Samples left',)\n",
      "('3 Samples left',)\n",
      "(580, 8)\n",
      "('method meandiff. number of higher in mouse cecum, TLR5 knockout : 0. number of higher in mouse cecum, wild type : 0. total 0',)\n",
      "('5 Samples left',)\n",
      "('3 Samples left',)\n",
      "(580, 8)\n",
      "('method meandiff. number of higher in mouse cecum, TLR5 knockout : 0. number of higher in mouse cecum, wild type : 0. total 0',)\n"
     ]
    },
    {
     "data": {
      "text/plain": [
       "<heatsequer.experiment.expclass.Experiment at 0x11534b588>"
      ]
     },
     "execution_count": 42,
     "metadata": {},
     "output_type": "execute_result"
    }
   ],
   "source": [
    "mlt_sub = hs.filterminreads(mlt,10)\n",
    "hs.getpbfdr(mlt_sub,'Description','mouse cecum, TLR5 knockout','mouse cecum, wild type',fdrmethod='pbfdr')\n",
    "hs.getpbfdr(mlt_sub,'Description','mouse cecum, TLR5 knockout','mouse cecum, wild type',fdrmethod='bhfdr')\n",
    "hs.getpbfdr(mlt_sub,'Description','mouse cecum, TLR5 knockout','mouse cecum, wild type',fdrmethod='byfdr')"
   ]
  },
  {
   "cell_type": "code",
   "execution_count": 41,
   "metadata": {
    "collapsed": false
   },
   "outputs": [
    {
     "name": "stdout",
     "output_type": "stream",
     "text": [
      "('813 Bacteria left',)\n",
      "('5 Samples left',)\n",
      "('3 Samples left',)\n",
      "(813, 8)\n",
      "('method meandiff. number of higher in mouse cecum, TLR5 knockout : 0. number of higher in mouse cecum, wild type : 41. total 41',)\n",
      "('41 Bacteria left',)\n",
      "('Not using gui',)\n"
     ]
    },
    {
     "data": {
      "image/png": "[encoded data removed]",
      "text/plain": [
       "<matplotlib.figure.Figure at 0x118e94588>"
      ]
     },
     "metadata": {},
     "output_type": "display_data"
    },
    {
     "data": {
      "text/plain": [
       "(<heatsequer.experiment.expclass.Experiment at 0x11521dcf8>,\n",
       " <matplotlib.axes._subplots.AxesSubplot at 0x118faeeb8>)"
      ]
     },
     "execution_count": 41,
     "metadata": {},
     "output_type": "execute_result"
    }
   ],
   "source": [
    "mlt_sub=hs.filterminreads(mlt,5)\n",
    "mlt_pb=hs.getpbfdr(mlt_sub,'Description','mouse cecum, TLR5 knockout','mouse cecum, wild type',fdrmethod='pbfdr')\n",
    "hs.plotexp(mlt_pb,'Description',usegui=False, showcolorbar=True)"
   ]
  },
  {
   "cell_type": "code",
   "execution_count": 23,
   "metadata": {
    "collapsed": false
   },
   "outputs": [
    {
     "name": "stdout",
     "output_type": "stream",
     "text": [
      "('907 Bacteria left',)\n",
      "('5 Samples left',)\n",
      "('3 Samples left',)\n",
      "(907, 8)\n",
      "('method meandiff. number of higher in mouse cecum, TLR5 knockout : 0. number of higher in mouse cecum, wild type : 41. total 41',)\n",
      "('907 Bacteria left',)\n",
      "('5 Samples left',)\n",
      "('3 Samples left',)\n",
      "(907, 8)\n",
      "('method meandiff. number of higher in mouse cecum, TLR5 knockout : 0. number of higher in mouse cecum, wild type : 41. total 41',)\n",
      "('907 Bacteria left',)\n",
      "('5 Samples left',)\n",
      "('3 Samples left',)\n",
      "(907, 8)\n",
      "('method meandiff. number of higher in mouse cecum, TLR5 knockout : 0. number of higher in mouse cecum, wild type : 41. total 41',)\n",
      "('878 Bacteria left',)\n",
      "('5 Samples left',)\n",
      "('3 Samples left',)\n",
      "(878, 8)\n",
      "('method meandiff. number of higher in mouse cecum, TLR5 knockout : 27. number of higher in mouse cecum, wild type : 49. total 76',)\n",
      "('813 Bacteria left',)\n",
      "('5 Samples left',)\n",
      "('3 Samples left',)\n",
      "(813, 8)\n",
      "('method meandiff. number of higher in mouse cecum, TLR5 knockout : 0. number of higher in mouse cecum, wild type : 41. total 41',)\n",
      "('659 Bacteria left',)\n",
      "('5 Samples left',)\n",
      "('3 Samples left',)\n",
      "(659, 8)\n",
      "('method meandiff. number of higher in mouse cecum, TLR5 knockout : 0. number of higher in mouse cecum, wild type : 41. total 41',)\n",
      "('648 Bacteria left',)\n",
      "('5 Samples left',)\n",
      "('3 Samples left',)\n",
      "(648, 8)\n",
      "('method meandiff. number of higher in mouse cecum, TLR5 knockout : 0. number of higher in mouse cecum, wild type : 41. total 41',)\n",
      "('644 Bacteria left',)\n",
      "('5 Samples left',)\n",
      "('3 Samples left',)\n",
      "(644, 8)\n",
      "('method meandiff. number of higher in mouse cecum, TLR5 knockout : 0. number of higher in mouse cecum, wild type : 41. total 41',)\n",
      "('609 Bacteria left',)\n",
      "('5 Samples left',)\n",
      "('3 Samples left',)\n",
      "(609, 8)\n",
      "('method meandiff. number of higher in mouse cecum, TLR5 knockout : 0. number of higher in mouse cecum, wild type : 41. total 41',)\n",
      "('580 Bacteria left',)\n",
      "('5 Samples left',)\n",
      "('3 Samples left',)\n",
      "(580, 8)\n",
      "('method meandiff. number of higher in mouse cecum, TLR5 knockout : 0. number of higher in mouse cecum, wild type : 0. total 0',)\n",
      "('393 Bacteria left',)\n",
      "('5 Samples left',)\n",
      "('3 Samples left',)\n",
      "(393, 8)\n",
      "('method meandiff. number of higher in mouse cecum, TLR5 knockout : 25. number of higher in mouse cecum, wild type : 43. total 68',)\n",
      "('315 Bacteria left',)\n",
      "('5 Samples left',)\n",
      "('3 Samples left',)\n",
      "(315, 8)\n",
      "('method meandiff. number of higher in mouse cecum, TLR5 knockout : 0. number of higher in mouse cecum, wild type : 32. total 32',)\n",
      "('255 Bacteria left',)\n",
      "('5 Samples left',)\n",
      "('3 Samples left',)\n",
      "(255, 8)\n",
      "('method meandiff. number of higher in mouse cecum, TLR5 knockout : 0. number of higher in mouse cecum, wild type : 28. total 28',)\n",
      "('207 Bacteria left',)\n",
      "('5 Samples left',)\n",
      "('3 Samples left',)\n",
      "(207, 8)\n",
      "('method meandiff. number of higher in mouse cecum, TLR5 knockout : 17. number of higher in mouse cecum, wild type : 26. total 43',)\n",
      "('184 Bacteria left',)\n",
      "('5 Samples left',)\n",
      "('3 Samples left',)\n",
      "(184, 8)\n",
      "('method meandiff. number of higher in mouse cecum, TLR5 knockout : 0. number of higher in mouse cecum, wild type : 20. total 20',)\n",
      "('156 Bacteria left',)\n",
      "('5 Samples left',)\n",
      "('3 Samples left',)\n",
      "(156, 8)\n",
      "('method meandiff. number of higher in mouse cecum, TLR5 knockout : 0. number of higher in mouse cecum, wild type : 15. total 15',)\n",
      "('146 Bacteria left',)\n",
      "('5 Samples left',)\n",
      "('3 Samples left',)\n",
      "(146, 8)\n",
      "('method meandiff. number of higher in mouse cecum, TLR5 knockout : 23. number of higher in mouse cecum, wild type : 20. total 43',)\n",
      "('133 Bacteria left',)\n",
      "('5 Samples left',)\n",
      "('3 Samples left',)\n",
      "(133, 8)\n",
      "('method meandiff. number of higher in mouse cecum, TLR5 knockout : 23. number of higher in mouse cecum, wild type : 18. total 41',)\n",
      "('120 Bacteria left',)\n",
      "('5 Samples left',)\n",
      "('3 Samples left',)\n",
      "(120, 8)\n",
      "('method meandiff. number of higher in mouse cecum, TLR5 knockout : 22. number of higher in mouse cecum, wild type : 18. total 40',)\n",
      "('54 Bacteria left',)\n",
      "('5 Samples left',)\n",
      "('3 Samples left',)\n",
      "(54, 8)\n",
      "('method meandiff. number of higher in mouse cecum, TLR5 knockout : 16. number of higher in mouse cecum, wild type : 5. total 21',)\n",
      "('37 Bacteria left',)\n",
      "('5 Samples left',)\n",
      "('3 Samples left',)\n",
      "(37, 8)\n",
      "('method meandiff. number of higher in mouse cecum, TLR5 knockout : 12. number of higher in mouse cecum, wild type : 4. total 16',)\n",
      "('31 Bacteria left',)\n",
      "('5 Samples left',)\n",
      "('3 Samples left',)\n",
      "(31, 8)\n",
      "('method meandiff. number of higher in mouse cecum, TLR5 knockout : 10. number of higher in mouse cecum, wild type : 4. total 14',)\n",
      "('26 Bacteria left',)\n",
      "('5 Samples left',)\n",
      "('3 Samples left',)\n",
      "(26, 8)\n",
      "('method meandiff. number of higher in mouse cecum, TLR5 knockout : 10. number of higher in mouse cecum, wild type : 5. total 15',)\n"
     ]
    }
   ],
   "source": [
    "# pretty good result (no filtlev = 0, rerun filtlev = 10)\n",
    "filtlev = [1,2,3,4,5,6,7,8,9,10,20,30,40,50,60,70,80,90,100,200,300,400,500]\n",
    "for i in filtlev:\n",
    "    mlt_sub=hs.filterminreads(mlt,i)\n",
    "    ddpb=hs.getpbfdr(mlt_sub,'Description','mouse cecum, TLR5 knockout','mouse cecum, wild type',fdrmethod='pbfdr')"
   ]
  },
  {
   "cell_type": "code",
   "execution_count": 36,
   "metadata": {
    "collapsed": false
   },
   "outputs": [
    {
     "name": "stdout",
     "output_type": "stream",
     "text": [
      "('908 Bacteria left',)\n",
      "('5 Samples left',)\n",
      "('3 Samples left',)\n",
      "(908, 8)\n",
      "('method meandiff. number of higher in mouse cecum, TLR5 knockout : 0. number of higher in mouse cecum, wild type : 0. total 0',)\n",
      "('907 Bacteria left',)\n",
      "('5 Samples left',)\n",
      "('3 Samples left',)\n",
      "(907, 8)\n",
      "('method meandiff. number of higher in mouse cecum, TLR5 knockout : 0. number of higher in mouse cecum, wild type : 0. total 0',)\n",
      "('907 Bacteria left',)\n",
      "('5 Samples left',)\n",
      "('3 Samples left',)\n",
      "(907, 8)\n",
      "('method meandiff. number of higher in mouse cecum, TLR5 knockout : 0. number of higher in mouse cecum, wild type : 0. total 0',)\n",
      "('907 Bacteria left',)\n",
      "('5 Samples left',)\n",
      "('3 Samples left',)\n",
      "(907, 8)\n",
      "('method meandiff. number of higher in mouse cecum, TLR5 knockout : 0. number of higher in mouse cecum, wild type : 0. total 0',)\n",
      "('878 Bacteria left',)\n",
      "('5 Samples left',)\n",
      "('3 Samples left',)\n",
      "(878, 8)\n",
      "('method meandiff. number of higher in mouse cecum, TLR5 knockout : 0. number of higher in mouse cecum, wild type : 0. total 0',)\n",
      "('813 Bacteria left',)\n",
      "('5 Samples left',)\n",
      "('3 Samples left',)\n",
      "(813, 8)\n",
      "('method meandiff. number of higher in mouse cecum, TLR5 knockout : 0. number of higher in mouse cecum, wild type : 0. total 0',)\n",
      "('659 Bacteria left',)\n",
      "('5 Samples left',)\n",
      "('3 Samples left',)\n",
      "(659, 8)\n",
      "('method meandiff. number of higher in mouse cecum, TLR5 knockout : 0. number of higher in mouse cecum, wild type : 0. total 0',)\n",
      "('648 Bacteria left',)\n",
      "('5 Samples left',)\n",
      "('3 Samples left',)\n",
      "(648, 8)\n",
      "('method meandiff. number of higher in mouse cecum, TLR5 knockout : 0. number of higher in mouse cecum, wild type : 0. total 0',)\n",
      "('644 Bacteria left',)\n",
      "('5 Samples left',)\n",
      "('3 Samples left',)\n",
      "(644, 8)\n",
      "('method meandiff. number of higher in mouse cecum, TLR5 knockout : 0. number of higher in mouse cecum, wild type : 0. total 0',)\n",
      "('609 Bacteria left',)\n",
      "('5 Samples left',)\n",
      "('3 Samples left',)\n",
      "(609, 8)\n",
      "('method meandiff. number of higher in mouse cecum, TLR5 knockout : 0. number of higher in mouse cecum, wild type : 0. total 0',)\n",
      "('580 Bacteria left',)\n",
      "('5 Samples left',)\n",
      "('3 Samples left',)\n",
      "(580, 8)\n",
      "('method meandiff. number of higher in mouse cecum, TLR5 knockout : 0. number of higher in mouse cecum, wild type : 0. total 0',)\n",
      "('393 Bacteria left',)\n",
      "('5 Samples left',)\n",
      "('3 Samples left',)\n",
      "(393, 8)\n",
      "('method meandiff. number of higher in mouse cecum, TLR5 knockout : 0. number of higher in mouse cecum, wild type : 0. total 0',)\n",
      "('315 Bacteria left',)\n",
      "('5 Samples left',)\n",
      "('3 Samples left',)\n",
      "(315, 8)\n",
      "('method meandiff. number of higher in mouse cecum, TLR5 knockout : 0. number of higher in mouse cecum, wild type : 0. total 0',)\n",
      "('255 Bacteria left',)\n",
      "('5 Samples left',)\n",
      "('3 Samples left',)\n",
      "(255, 8)\n",
      "('method meandiff. number of higher in mouse cecum, TLR5 knockout : 0. number of higher in mouse cecum, wild type : 0. total 0',)\n",
      "('207 Bacteria left',)\n",
      "('5 Samples left',)\n",
      "('3 Samples left',)\n",
      "(207, 8)\n",
      "('method meandiff. number of higher in mouse cecum, TLR5 knockout : 0. number of higher in mouse cecum, wild type : 0. total 0',)\n",
      "('184 Bacteria left',)\n",
      "('5 Samples left',)\n",
      "('3 Samples left',)\n",
      "(184, 8)\n",
      "('method meandiff. number of higher in mouse cecum, TLR5 knockout : 0. number of higher in mouse cecum, wild type : 0. total 0',)\n",
      "('156 Bacteria left',)\n",
      "('5 Samples left',)\n",
      "('3 Samples left',)\n",
      "(156, 8)\n",
      "('method meandiff. number of higher in mouse cecum, TLR5 knockout : 0. number of higher in mouse cecum, wild type : 0. total 0',)\n",
      "('146 Bacteria left',)\n",
      "('5 Samples left',)\n",
      "('3 Samples left',)\n",
      "(146, 8)\n",
      "('method meandiff. number of higher in mouse cecum, TLR5 knockout : 0. number of higher in mouse cecum, wild type : 0. total 0',)\n",
      "('133 Bacteria left',)\n",
      "('5 Samples left',)\n",
      "('3 Samples left',)\n",
      "(133, 8)\n",
      "('method meandiff. number of higher in mouse cecum, TLR5 knockout : 0. number of higher in mouse cecum, wild type : 0. total 0',)\n",
      "('120 Bacteria left',)\n",
      "('5 Samples left',)\n",
      "('3 Samples left',)\n",
      "(120, 8)\n",
      "('method meandiff. number of higher in mouse cecum, TLR5 knockout : 0. number of higher in mouse cecum, wild type : 0. total 0',)\n",
      "('54 Bacteria left',)\n",
      "('5 Samples left',)\n",
      "('3 Samples left',)\n",
      "(54, 8)\n",
      "('method meandiff. number of higher in mouse cecum, TLR5 knockout : 0. number of higher in mouse cecum, wild type : 0. total 0',)\n",
      "('37 Bacteria left',)\n",
      "('5 Samples left',)\n",
      "('3 Samples left',)\n",
      "(37, 8)\n",
      "('method meandiff. number of higher in mouse cecum, TLR5 knockout : 12. number of higher in mouse cecum, wild type : 4. total 16',)\n",
      "('31 Bacteria left',)\n",
      "('5 Samples left',)\n",
      "('3 Samples left',)\n",
      "(31, 8)\n",
      "('method meandiff. number of higher in mouse cecum, TLR5 knockout : 10. number of higher in mouse cecum, wild type : 4. total 14',)\n",
      "('26 Bacteria left',)\n",
      "('5 Samples left',)\n",
      "('3 Samples left',)\n",
      "(26, 8)\n",
      "('method meandiff. number of higher in mouse cecum, TLR5 knockout : 10. number of higher in mouse cecum, wild type : 4. total 14',)\n"
     ]
    }
   ],
   "source": [
    "filtlev = [0,1,2,3,4,5,6,7,8,9,10,20,30,40,50,60,70,80,90,100,200,300,400,500]\n",
    "for i in filtlev:\n",
    "    mlt_sub=hs.filterminreads(mlt,i)\n",
    "    ddpb=hs.getpbfdr(mlt_sub,'Description','mouse cecum, TLR5 knockout','mouse cecum, wild type',fdrmethod='bhfdr')"
   ]
  },
  {
   "cell_type": "code",
   "execution_count": 35,
   "metadata": {
    "collapsed": false
   },
   "outputs": [
    {
     "name": "stdout",
     "output_type": "stream",
     "text": [
      "('908 Bacteria left',)\n",
      "('5 Samples left',)\n",
      "('3 Samples left',)\n",
      "(908, 8)\n",
      "('method meandiff. number of higher in mouse cecum, TLR5 knockout : 0. number of higher in mouse cecum, wild type : 0. total 0',)\n",
      "('907 Bacteria left',)\n",
      "('5 Samples left',)\n",
      "('3 Samples left',)\n",
      "(907, 8)\n",
      "('method meandiff. number of higher in mouse cecum, TLR5 knockout : 0. number of higher in mouse cecum, wild type : 0. total 0',)\n",
      "('907 Bacteria left',)\n",
      "('5 Samples left',)\n",
      "('3 Samples left',)\n",
      "(907, 8)\n",
      "('method meandiff. number of higher in mouse cecum, TLR5 knockout : 0. number of higher in mouse cecum, wild type : 0. total 0',)\n",
      "('907 Bacteria left',)\n",
      "('5 Samples left',)\n",
      "('3 Samples left',)\n",
      "(907, 8)\n",
      "('method meandiff. number of higher in mouse cecum, TLR5 knockout : 0. number of higher in mouse cecum, wild type : 0. total 0',)\n",
      "('878 Bacteria left',)\n",
      "('5 Samples left',)\n",
      "('3 Samples left',)\n",
      "(878, 8)\n",
      "('method meandiff. number of higher in mouse cecum, TLR5 knockout : 0. number of higher in mouse cecum, wild type : 0. total 0',)\n",
      "('813 Bacteria left',)\n",
      "('5 Samples left',)\n",
      "('3 Samples left',)\n",
      "(813, 8)\n",
      "('method meandiff. number of higher in mouse cecum, TLR5 knockout : 0. number of higher in mouse cecum, wild type : 0. total 0',)\n",
      "('659 Bacteria left',)\n",
      "('5 Samples left',)\n",
      "('3 Samples left',)\n",
      "(659, 8)\n",
      "('method meandiff. number of higher in mouse cecum, TLR5 knockout : 0. number of higher in mouse cecum, wild type : 0. total 0',)\n",
      "('648 Bacteria left',)\n",
      "('5 Samples left',)\n",
      "('3 Samples left',)\n",
      "(648, 8)\n",
      "('method meandiff. number of higher in mouse cecum, TLR5 knockout : 0. number of higher in mouse cecum, wild type : 0. total 0',)\n",
      "('644 Bacteria left',)\n",
      "('5 Samples left',)\n",
      "('3 Samples left',)\n",
      "(644, 8)\n",
      "('method meandiff. number of higher in mouse cecum, TLR5 knockout : 0. number of higher in mouse cecum, wild type : 0. total 0',)\n",
      "('609 Bacteria left',)\n",
      "('5 Samples left',)\n",
      "('3 Samples left',)\n",
      "(609, 8)\n",
      "('method meandiff. number of higher in mouse cecum, TLR5 knockout : 0. number of higher in mouse cecum, wild type : 0. total 0',)\n",
      "('580 Bacteria left',)\n",
      "('5 Samples left',)\n",
      "('3 Samples left',)\n",
      "(580, 8)\n",
      "('method meandiff. number of higher in mouse cecum, TLR5 knockout : 0. number of higher in mouse cecum, wild type : 0. total 0',)\n",
      "('393 Bacteria left',)\n",
      "('5 Samples left',)\n",
      "('3 Samples left',)\n",
      "(393, 8)\n",
      "('method meandiff. number of higher in mouse cecum, TLR5 knockout : 0. number of higher in mouse cecum, wild type : 0. total 0',)\n",
      "('315 Bacteria left',)\n",
      "('5 Samples left',)\n",
      "('3 Samples left',)\n",
      "(315, 8)\n",
      "('method meandiff. number of higher in mouse cecum, TLR5 knockout : 0. number of higher in mouse cecum, wild type : 0. total 0',)\n",
      "('255 Bacteria left',)\n",
      "('5 Samples left',)\n",
      "('3 Samples left',)\n",
      "(255, 8)\n",
      "('method meandiff. number of higher in mouse cecum, TLR5 knockout : 0. number of higher in mouse cecum, wild type : 0. total 0',)\n",
      "('207 Bacteria left',)\n",
      "('5 Samples left',)\n",
      "('3 Samples left',)\n",
      "(207, 8)\n",
      "('method meandiff. number of higher in mouse cecum, TLR5 knockout : 0. number of higher in mouse cecum, wild type : 0. total 0',)\n",
      "('184 Bacteria left',)\n",
      "('5 Samples left',)\n",
      "('3 Samples left',)\n",
      "(184, 8)\n",
      "('method meandiff. number of higher in mouse cecum, TLR5 knockout : 0. number of higher in mouse cecum, wild type : 0. total 0',)\n",
      "('156 Bacteria left',)\n",
      "('5 Samples left',)\n",
      "('3 Samples left',)\n",
      "(156, 8)\n",
      "('method meandiff. number of higher in mouse cecum, TLR5 knockout : 0. number of higher in mouse cecum, wild type : 0. total 0',)\n",
      "('146 Bacteria left',)\n",
      "('5 Samples left',)\n",
      "('3 Samples left',)\n",
      "(146, 8)\n",
      "('method meandiff. number of higher in mouse cecum, TLR5 knockout : 0. number of higher in mouse cecum, wild type : 0. total 0',)\n",
      "('133 Bacteria left',)\n",
      "('5 Samples left',)\n",
      "('3 Samples left',)\n",
      "(133, 8)\n",
      "('method meandiff. number of higher in mouse cecum, TLR5 knockout : 0. number of higher in mouse cecum, wild type : 0. total 0',)\n",
      "('120 Bacteria left',)\n",
      "('5 Samples left',)\n",
      "('3 Samples left',)\n",
      "(120, 8)\n",
      "('method meandiff. number of higher in mouse cecum, TLR5 knockout : 0. number of higher in mouse cecum, wild type : 0. total 0',)\n",
      "('54 Bacteria left',)\n",
      "('5 Samples left',)\n",
      "('3 Samples left',)\n",
      "(54, 8)\n",
      "('method meandiff. number of higher in mouse cecum, TLR5 knockout : 0. number of higher in mouse cecum, wild type : 0. total 0',)\n",
      "('37 Bacteria left',)\n",
      "('5 Samples left',)\n",
      "('3 Samples left',)\n",
      "(37, 8)\n",
      "('method meandiff. number of higher in mouse cecum, TLR5 knockout : 0. number of higher in mouse cecum, wild type : 0. total 0',)\n",
      "('31 Bacteria left',)\n",
      "('5 Samples left',)\n",
      "('3 Samples left',)\n",
      "(31, 8)\n",
      "('method meandiff. number of higher in mouse cecum, TLR5 knockout : 0. number of higher in mouse cecum, wild type : 0. total 0',)\n",
      "('26 Bacteria left',)\n",
      "('5 Samples left',)\n",
      "('3 Samples left',)\n",
      "(26, 8)\n",
      "('method meandiff. number of higher in mouse cecum, TLR5 knockout : 0. number of higher in mouse cecum, wild type : 0. total 0',)\n"
     ]
    }
   ],
   "source": [
    "filtlev = [0,1,2,3,4,5,6,7,8,9,10,20,30,40,50,60,70,80,90,100,200,300,400,500]\n",
    "for i in filtlev:\n",
    "    mlt_sub=hs.filterminreads(mlt,i)\n",
    "    ddpb=hs.getpbfdr(mlt_sub,'Description','mouse cecum, TLR5 knockout','mouse cecum, wild type',fdrmethod='byfdr')"
   ]
  },
  {
   "cell_type": "markdown",
   "metadata": {},
   "source": [
    "## Cigarette Smokers (Qiita: 524)"
   ]
  },
  {
   "cell_type": "code",
   "execution_count": 7,
   "metadata": {
    "collapsed": false
   },
   "outputs": [
    {
     "name": "stdout",
     "output_type": "stream",
     "text": [
      "('Loading biom table data/cs.biom',)\n",
      "364c1bab61a43049db20ae1b65cdc0a1\n",
      "('Loading mapping file data/cs.map.txt',)\n",
      "('number of samples in map is 291',)\n",
      "('number of samples in table is 290',)\n",
      "('removing 0 samples',)\n",
      "('deleted. number of samples in table is now 290',)\n",
      "('removing 1 samples from mapping file',)\n",
      "('number of samples in mapping file is now 290',)\n",
      "('235 Samples left',)\n"
     ]
    }
   ],
   "source": [
    "cs=hs.load('data/cs.biom','data/cs.map.txt')\n",
    "cs=hs.filterorigreads(cs,1000)"
   ]
  },
  {
   "cell_type": "code",
   "execution_count": 16,
   "metadata": {
    "collapsed": false
   },
   "outputs": [
    {
     "data": {
      "text/plain": [
       "4.595200870097206"
      ]
     },
     "execution_count": 16,
     "metadata": {},
     "output_type": "execute_result"
    }
   ],
   "source": [
    "# sparisty\n",
    "(np.count_nonzero(cs.data)/((np.shape(cs.data)[0])*(np.shape(cs.data)[1])))*100"
   ]
  },
  {
   "cell_type": "code",
   "execution_count": 10,
   "metadata": {
    "collapsed": false
   },
   "outputs": [
    {
     "name": "stdout",
     "output_type": "stream",
     "text": [
      "('2341 Bacteria left',)\n",
      "('125 Samples left',)\n",
      "('110 Samples left',)\n",
      "(2341, 235)\n",
      "('method meandiff. number of higher in False : 45. number of higher in True : 136. total 181',)\n",
      "('125 Samples left',)\n",
      "('110 Samples left',)\n",
      "(2341, 235)\n",
      "('method meandiff. number of higher in False : 21. number of higher in True : 100. total 121',)\n",
      "('125 Samples left',)\n",
      "('110 Samples left',)\n",
      "(2341, 235)\n",
      "('method meandiff. number of higher in False : 0. number of higher in True : 0. total 0',)\n"
     ]
    },
    {
     "data": {
      "text/plain": [
       "<heatsequer.experiment.expclass.Experiment at 0x1191f1898>"
      ]
     },
     "execution_count": 10,
     "metadata": {},
     "output_type": "execute_result"
    }
   ],
   "source": [
    "cs_sub = hs.filterminreads(cs,5)\n",
    "hs.getpbfdr(cs_sub,'smoker','False','True',fdrmethod='pbfdr')\n",
    "hs.getpbfdr(cs_sub,'smoker','False','True',fdrmethod='bhfdr')\n",
    "hs.getpbfdr(cs_sub,'smoker','False','True',fdrmethod='byfdr')"
   ]
  },
  {
   "cell_type": "markdown",
   "metadata": {},
   "source": [
    "## Delivery Mode Effect (Qiita: 395)"
   ]
  },
  {
   "cell_type": "code",
   "execution_count": 52,
   "metadata": {
    "collapsed": false
   },
   "outputs": [
    {
     "name": "stdout",
     "output_type": "stream",
     "text": [
      "('Loading biom table data/dme.biom',)\n",
      "053b7109ca985b37675ae95140b2b671\n",
      "('Loading mapping file data/dme.map.txt',)\n",
      "('number of samples in map is 80',)\n",
      "('number of samples in table is 80',)\n",
      "('removing 0 samples',)\n",
      "('deleted. number of samples in table is now 80',)\n",
      "('number of samples in mapping file is now 80',)\n",
      "('79 Samples left',)\n"
     ]
    }
   ],
   "source": [
    "dme=hs.load('data/dme.biom','data/dme.map.txt')\n",
    "dme=hs.filterorigreads(dme,1000)"
   ]
  },
  {
   "cell_type": "code",
   "execution_count": 53,
   "metadata": {
    "collapsed": false
   },
   "outputs": [
    {
     "data": {
      "text/plain": [
       "5.165254606803378"
      ]
     },
     "execution_count": 53,
     "metadata": {},
     "output_type": "execute_result"
    }
   ],
   "source": [
    "# sparisty\n",
    "(np.count_nonzero(dme.data)/((np.shape(dme.data)[0])*(np.shape(dme.data)[1])))*100"
   ]
  },
  {
   "cell_type": "code",
   "execution_count": 31,
   "metadata": {
    "collapsed": false
   },
   "outputs": [
    {
     "name": "stdout",
     "output_type": "stream",
     "text": [
      "('3489 Bacteria left',)\n",
      "('27 Samples left',)\n",
      "('17 Samples left',)\n",
      "(3489, 44)\n",
      "('method meandiff. number of higher in cesarean delivery : 111. number of higher in vaginal delivery : 279. total 390',)\n",
      "('27 Samples left',)\n",
      "('17 Samples left',)\n",
      "(3489, 44)\n",
      "('method meandiff. number of higher in cesarean delivery : 35. number of higher in vaginal delivery : 87. total 122',)\n",
      "('27 Samples left',)\n",
      "('17 Samples left',)\n",
      "(3489, 44)\n",
      "('method meandiff. number of higher in cesarean delivery : 0. number of higher in vaginal delivery : 0. total 0',)\n"
     ]
    },
    {
     "data": {
      "text/plain": [
       "<heatsequer.experiment.expclass.Experiment at 0x114fcd7b8>"
      ]
     },
     "execution_count": 31,
     "metadata": {},
     "output_type": "execute_result"
    }
   ],
   "source": [
    "dme_sub = hs.filterminreads(dme,5)\n",
    "hs.getpbfdr(dme_sub,'misc_param','cesarean delivery','vaginal delivery',fdrmethod='pbfdr')\n",
    "hs.getpbfdr(dme_sub,'misc_param','cesarean delivery','vaginal delivery',fdrmethod='bhfdr')\n",
    "hs.getpbfdr(dme_sub,'misc_param','cesarean delivery','vaginal delivery',fdrmethod='byfdr')"
   ]
  },
  {
   "cell_type": "code",
   "execution_count": null,
   "metadata": {
    "collapsed": true
   },
   "outputs": [],
   "source": []
  }
 ],
 "metadata": {
  "anaconda-cloud": {},
  "kernelspec": {
   "display_name": "Python 3",
   "language": "python",
   "name": "python3"
  },
  "language_info": {
   "codemirror_mode": {
    "name": "ipython",
    "version": 3
   },
   "file_extension": ".py",
   "mimetype": "text/x-python",
   "name": "python",
   "nbconvert_exporter": "python",
   "pygments_lexer": "ipython3",
   "version": "3.5.2"
  }
 },
 "nbformat": 4,
 "nbformat_minor": 0
}

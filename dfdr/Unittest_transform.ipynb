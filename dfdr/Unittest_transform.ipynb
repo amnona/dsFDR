{
 "cells": [
  {
   "cell_type": "code",
   "execution_count": 1,
   "metadata": {
    "collapsed": true
   },
   "outputs": [],
   "source": [
    "import numpy as np\n",
    "import pandas as pd\n",
    "import scipy as sp\n",
    "import scipy.stats"
   ]
  },
  {
   "cell_type": "code",
   "execution_count": 6,
   "metadata": {
    "collapsed": false
   },
   "outputs": [
    {
     "name": "stdout",
     "output_type": "stream",
     "text": [
      "[ 1.  2.  3.  4.  5.  6.  7.  8.]\n",
      "[ 1.5  3.5  5.5  7.5  7.5  5.5  3.5  1.5]\n",
      "[ 3.   3.   3.   6.5  3.   8.   3.   6.5]\n"
     ]
    }
   ],
   "source": [
    "# rank transformation\n",
    "x1 = np.array([0,1,3,5,10,30,40,50])\n",
    "x2 = np.array([1,2,3,4,4,3,2,1]) \n",
    "x3 = np.array([0,0,0,1,0,3,0,1])\n",
    "\n",
    "print(sp.stats.rankdata(x1))\n",
    "print(sp.stats.rankdata(x2))\n",
    "print(sp.stats.rankdata(x3))"
   ]
  },
  {
   "cell_type": "code",
   "execution_count": 34,
   "metadata": {
    "collapsed": false
   },
   "outputs": [
    {
     "name": "stdout",
     "output_type": "stream",
     "text": [
      "[ 2  2  3  5 10 30 40 50]\n",
      "[ 1.          1.          1.5849625   2.32192809  3.32192809  4.9068906\n",
      "  5.32192809  5.64385619]\n",
      "[2 2 3 4 4 3 2 2]\n",
      "[ 1.         1.         1.5849625  2.         2.         1.5849625  1.         1.       ]\n",
      "[2 2 3 4 4 3 2 2]\n",
      "[ 1.         1.         1.         1.         1.         1.5849625  1.         1.       ]\n"
     ]
    }
   ],
   "source": [
    "# log2 transformation\n",
    "x1 = np.array([0,1,3,5,10,30,40,50])\n",
    "x2 = np.array([1,2,3,4,4,3,2,1]) \n",
    "x3 = np.array([0,0,0,1,0,3,0,1])\n",
    "\n",
    "x1[x1<2]=2\n",
    "print(np.log2(x1))\n",
    "\n",
    "x2[x2<2]=2\n",
    "print(np.log2(x2))\n",
    "\n",
    "x3[x3<2]=2\n",
    "print(np.log2(x3))"
   ]
  },
  {
   "cell_type": "code",
   "execution_count": 33,
   "metadata": {
    "collapsed": false
   },
   "outputs": [
    {
     "data": {
      "text/plain": [
       "array([[ 1.        ,  1.        ,  1.5849625 ,  2.32192809,  3.32192809,\n",
       "         4.9068906 ,  5.32192809,  5.64385619],\n",
       "       [ 1.        ,  1.        ,  1.5849625 ,  2.        ,  2.        ,\n",
       "         1.5849625 ,  1.        ,  1.        ],\n",
       "       [ 1.        ,  1.        ,  1.        ,  1.        ,  1.        ,\n",
       "         1.5849625 ,  1.        ,  1.        ]])"
      ]
     },
     "execution_count": 33,
     "metadata": {},
     "output_type": "execute_result"
    }
   ],
   "source": [
    "data = np.array([[0,1,3,5,10,30,40,50],\n",
    "                    [1,2,3,4,4,3,2,1],\n",
    "                    [0,0,0,1,0,3,0,1]])\n",
    "data[data < 2] = 2\n",
    "data = np.log2(data)\n",
    "data"
   ]
  },
  {
   "cell_type": "code",
   "execution_count": 10,
   "metadata": {
    "collapsed": false
   },
   "outputs": [
    {
     "name": "stdout",
     "output_type": "stream",
     "text": [
      "[0 1 1 1 1 1 1 1]\n",
      "[1 1 1 1 1 1 1 1]\n",
      "[0 0 0 1 0 1 0 1]\n"
     ]
    }
   ],
   "source": [
    "# binary transformation\n",
    "x1 = np.array([0,1,3,5,10,30,40,50])\n",
    "x2 = np.array([1,2,3,4,4,3,2,1]) \n",
    "x3 = np.array([0,0,0,1,0,3,0,1])\n",
    "\n",
    "x1[x1!=0]=1\n",
    "print(x1)\n",
    "\n",
    "x2[x2!=0]=1\n",
    "print(x2)\n",
    "\n",
    "x3[x3!=0]=1\n",
    "print(x3)"
   ]
  },
  {
   "cell_type": "code",
   "execution_count": 40,
   "metadata": {
    "collapsed": false
   },
   "outputs": [
    {
     "data": {
      "text/plain": [
       "array([[ 0.        ,  0.33333333,  0.5       ,  0.5       ,  0.71428571,\n",
       "         0.83333333,  0.95238095,  0.96153846],\n",
       "       [ 1.        ,  0.66666667,  0.5       ,  0.4       ,  0.28571429,\n",
       "         0.08333333,  0.04761905,  0.01923077],\n",
       "       [ 0.        ,  0.        ,  0.        ,  0.1       ,  0.        ,\n",
       "         0.08333333,  0.        ,  0.01923077]])"
      ]
     },
     "execution_count": 40,
     "metadata": {},
     "output_type": "execute_result"
    }
   ],
   "source": [
    "# normalize transformation\n",
    "data = np.array([[0,1,3,5,10,30,40,50],\n",
    "                    [1,2,3,4,4,3,2,1],\n",
    "                    [0,0,0,1,0,3,0,1]])\n",
    "\n",
    "data = data / np.sum(data, axis = 0) # column sums\n",
    "data"
   ]
  },
  {
   "cell_type": "code",
   "execution_count": null,
   "metadata": {
    "collapsed": true
   },
   "outputs": [],
   "source": []
  }
 ],
 "metadata": {
  "anaconda-cloud": {},
  "kernelspec": {
   "display_name": "Python [conda env:python3]",
   "language": "python",
   "name": "conda-env-python3-py"
  },
  "language_info": {
   "codemirror_mode": {
    "name": "ipython",
    "version": 3
   },
   "file_extension": ".py",
   "mimetype": "text/x-python",
   "name": "python",
   "nbconvert_exporter": "python",
   "pygments_lexer": "ipython3",
   "version": "3.5.2"
  }
 },
 "nbformat": 4,
 "nbformat_minor": 2
}

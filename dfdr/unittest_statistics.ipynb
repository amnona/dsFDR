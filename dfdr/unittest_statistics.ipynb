{
 "cells": [
  {
   "cell_type": "code",
   "execution_count": 2,
   "metadata": {
    "collapsed": true
   },
   "outputs": [],
   "source": [
    "import numpy as np\n",
    "import pandas as pd\n",
    "import scipy as sp\n",
    "import scipy.stats"
   ]
  },
  {
   "cell_type": "code",
   "execution_count": null,
   "metadata": {
    "collapsed": true
   },
   "outputs": [],
   "source": [
    "x1 = np.array([0,1,3,5])\n",
    "y1 = np.array([10,30,40,50])\n",
    "x2 = np.array([1,2,3,4])\n",
    "y2 = np.array([4,3,2,1])\n",
    "x3 = np.array([0,0,0,1])\n",
    "y3 = np.array([0,3,0,1])"
   ]
  },
  {
   "cell_type": "code",
   "execution_count": 3,
   "metadata": {
    "collapsed": false
   },
   "outputs": [],
   "source": [
    "x = np.array([0,1,3,5,10,30,40,50])\n",
    "y = np.array([1,2,3,4,4,3,2,1])\n",
    "z = np.array([0,0,0,1,0,3,0,1])\n",
    "\n",
    "labels = np.array([1,1,1,1,0,0,0,0])"
   ]
  },
  {
   "cell_type": "code",
   "execution_count": 6,
   "metadata": {
    "collapsed": false
   },
   "outputs": [
    {
     "name": "stdout",
     "output_type": "stream",
     "text": [
      "-0.820287142353\n",
      "0.0\n",
      "-0.377964473009\n"
     ]
    }
   ],
   "source": [
    "print(scipy.stats.pearsonr(x,labels)[0])\n",
    "print(scipy.stats.pearsonr(y,labels)[0])\n",
    "print(scipy.stats.pearsonr(z,labels)[0])"
   ]
  },
  {
   "cell_type": "code",
   "execution_count": 7,
   "metadata": {
    "collapsed": false
   },
   "outputs": [
    {
     "name": "stdout",
     "output_type": "stream",
     "text": [
      "-0.872871560944\n",
      "0.0\n",
      "-0.314970394174\n"
     ]
    }
   ],
   "source": [
    "print(scipy.stats.spearmanr(x,labels)[0])\n",
    "print(scipy.stats.spearmanr(y,labels)[0])\n",
    "print(scipy.stats.spearmanr(z,labels)[0])"
   ]
  },
  {
   "cell_type": "code",
   "execution_count": null,
   "metadata": {
    "collapsed": true
   },
   "outputs": [],
   "source": []
  },
  {
   "cell_type": "code",
   "execution_count": null,
   "metadata": {
    "collapsed": true
   },
   "outputs": [],
   "source": []
  },
  {
   "cell_type": "code",
   "execution_count": null,
   "metadata": {
    "collapsed": true
   },
   "outputs": [],
   "source": []
  },
  {
   "cell_type": "code",
   "execution_count": null,
   "metadata": {
    "collapsed": true
   },
   "outputs": [],
   "source": []
  },
  {
   "cell_type": "code",
   "execution_count": null,
   "metadata": {
    "collapsed": true
   },
   "outputs": [],
   "source": []
  }
 ],
 "metadata": {
  "kernelspec": {
   "display_name": "Python [conda env:python3]",
   "language": "python",
   "name": "conda-env-python3-py"
  },
  "language_info": {
   "codemirror_mode": {
    "name": "ipython",
    "version": 3
   },
   "file_extension": ".py",
   "mimetype": "text/x-python",
   "name": "python",
   "nbconvert_exporter": "python",
   "pygments_lexer": "ipython3",
   "version": "3.5.2"
  }
 },
 "nbformat": 4,
 "nbformat_minor": 2
}

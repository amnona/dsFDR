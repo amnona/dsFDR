{
 "cells": [
  {
   "cell_type": "code",
   "execution_count": 1,
   "metadata": {
    "collapsed": true
   },
   "outputs": [],
   "source": [
    "import numpy as np\n",
    "import pandas as pd\n",
    "import scipy as sp\n",
    "import scipy.stats"
   ]
  },
  {
   "cell_type": "code",
   "execution_count": 3,
   "metadata": {
    "collapsed": false
   },
   "outputs": [],
   "source": [
    "        labels = np.array([1,1,1,1,0,0,0,0])\n",
    "        data = np.array([[0,1,3,5,10,30,40,50],\n",
    "                    [1,2,3,4,4,3,2,1],\n",
    "                    [0,0,0,1,0,3,0,1]])"
   ]
  },
  {
   "cell_type": "code",
   "execution_count": 4,
   "metadata": {
    "collapsed": false
   },
   "outputs": [
    {
     "name": "stdout",
     "output_type": "stream",
     "text": [
      "[ 32.5   2.5   1. ]\n",
      "[ 2.25  2.5   0.25]\n",
      "[-30.25   0.    -0.75]\n"
     ]
    }
   ],
   "source": [
    "mean0 = np.mean(data[:, labels==0], axis = 1)\n",
    "print(mean0)\n",
    "mean1 = np.mean(data[:, labels==1], axis = 1)\n",
    "print(mean1)\n",
    "tstat = mean1 - mean0\n",
    "print(tstat)"
   ]
  },
  {
   "cell_type": "code",
   "execution_count": 5,
   "metadata": {
    "collapsed": false
   },
   "outputs": [
    {
     "name": "stdout",
     "output_type": "stream",
     "text": [
      "[-1.56771435  0.         -0.39180581]\n"
     ]
    }
   ],
   "source": [
    "sd0 = np.std(data[:, labels==0], axis = 1, ddof = 1)\n",
    "sd1 = np.std(data[:, labels==1], axis = 1, ddof = 1)\n",
    "tstat = (mean1 - mean0)/(sd1 + sd0) \n",
    "print(tstat)"
   ]
  },
  {
   "cell_type": "code",
   "execution_count": null,
   "metadata": {
    "collapsed": true
   },
   "outputs": [],
   "source": [
    "x1 = np.array([0,1,3,5])\n",
    "y1 = np.array([10,30,40,50])\n",
    "x2 = np.array([1,2,3,4])\n",
    "y2 = np.array([4,3,2,1])\n",
    "x3 = np.array([0,0,0,1])\n",
    "y3 = np.array([0,3,0,1])"
   ]
  },
  {
   "cell_type": "code",
   "execution_count": 3,
   "metadata": {
    "collapsed": false
   },
   "outputs": [],
   "source": [
    "x = np.array([0,1,3,5,10,30,40,50])\n",
    "y = np.array([1,2,3,4,4,3,2,1])\n",
    "z = np.array([0,0,0,1,0,3,0,1])\n",
    "\n",
    "labels = np.array([1,1,1,1,0,0,0,0])"
   ]
  },
  {
   "cell_type": "code",
   "execution_count": 6,
   "metadata": {
    "collapsed": false
   },
   "outputs": [
    {
     "name": "stdout",
     "output_type": "stream",
     "text": [
      "-0.820287142353\n",
      "0.0\n",
      "-0.377964473009\n"
     ]
    }
   ],
   "source": [
    "print(scipy.stats.pearsonr(x,labels)[0])\n",
    "print(scipy.stats.pearsonr(y,labels)[0])\n",
    "print(scipy.stats.pearsonr(z,labels)[0])"
   ]
  },
  {
   "cell_type": "code",
   "execution_count": 7,
   "metadata": {
    "collapsed": false
   },
   "outputs": [
    {
     "name": "stdout",
     "output_type": "stream",
     "text": [
      "-0.872871560944\n",
      "0.0\n",
      "-0.314970394174\n"
     ]
    }
   ],
   "source": [
    "print(scipy.stats.spearmanr(x,labels)[0])\n",
    "print(scipy.stats.spearmanr(y,labels)[0])\n",
    "print(scipy.stats.spearmanr(z,labels)[0])"
   ]
  },
  {
   "cell_type": "markdown",
   "metadata": {},
   "source": [
    "## Filtered BH"
   ]
  },
  {
   "cell_type": "code",
   "execution_count": 3,
   "metadata": {
    "collapsed": true
   },
   "outputs": [],
   "source": [
    "labels = np.array([1,1,1,1,0,0,0,0])\n",
    "data = np.array([[0,1,3,5,10,30,40,50],\n",
    "                    [1,2,3,4,4,3,2,1],\n",
    "                    [0,0,0,1,0,3,0,1],\n",
    "                [0,0,0,0,0,10,0,0]])"
   ]
  },
  {
   "cell_type": "code",
   "execution_count": 8,
   "metadata": {
    "collapsed": false
   },
   "outputs": [
    {
     "name": "stdout",
     "output_type": "stream",
     "text": [
      "[array([ 0,  1,  3,  5, 10, 30, 40, 50]), array([1, 2, 3, 4, 4, 3, 2, 1])]\n"
     ]
    }
   ],
   "source": [
    "from scipy.special import comb\n",
    "\n",
    "data_filter = []\n",
    "n0 = np.sum(labels==0)\n",
    "n1 = np.sum(labels==1)\n",
    "alpha = 0.1\n",
    "\n",
    "for i in range(np.shape(data)[0]):\n",
    "    nonzeros = np.count_nonzero(data[i,:])\n",
    "    if nonzeros < min(n0,n1):\n",
    "        pval_min = (comb(n0, nonzeros, exact=True) + comb(n1, nonzeros, exact=True))/comb(n0+n1, nonzeros)\n",
    "        if pval_min < alpha:\n",
    "            data_filter.append(data[i,:])   \n",
    "         \n",
    "    else:\n",
    "        data_filter.append(data[i,:]) \n",
    "        \n",
    "print(data_filter)"
   ]
  },
  {
   "cell_type": "code",
   "execution_count": 8,
   "metadata": {
    "collapsed": false
   },
   "outputs": [
    {
     "data": {
      "text/plain": [
       "4"
      ]
     },
     "execution_count": 8,
     "metadata": {},
     "output_type": "execute_result"
    }
   ],
   "source": [
    "np.sum(labels == 0)"
   ]
  },
  {
   "cell_type": "code",
   "execution_count": 11,
   "metadata": {
    "collapsed": false
   },
   "outputs": [
    {
     "data": {
      "text/plain": [
       "0.14285714285714285"
      ]
     },
     "execution_count": 11,
     "metadata": {},
     "output_type": "execute_result"
    }
   ],
   "source": [
    "n0=n1=4\n",
    "nonzeros=3\n",
    "pval_min = (comb(n0, nonzeros, exact=True) + comb(n1, nonzeros, exact=True))/comb(n0+n1, nonzeros)\n",
    "pval_min"
   ]
  },
  {
   "cell_type": "code",
   "execution_count": 5,
   "metadata": {
    "collapsed": false
   },
   "outputs": [
    {
     "data": {
      "text/plain": [
       "2"
      ]
     },
     "execution_count": 5,
     "metadata": {},
     "output_type": "execute_result"
    }
   ],
   "source": [
    "min(2,3)"
   ]
  },
  {
   "cell_type": "code",
   "execution_count": null,
   "metadata": {
    "collapsed": true
   },
   "outputs": [],
   "source": []
  }
 ],
 "metadata": {
  "anaconda-cloud": {},
  "kernelspec": {
   "display_name": "Python 3",
   "language": "python",
   "name": "python3"
  },
  "language_info": {
   "codemirror_mode": {
    "name": "ipython",
    "version": 3
   },
   "file_extension": ".py",
   "mimetype": "text/x-python",
   "name": "python",
   "nbconvert_exporter": "python",
   "pygments_lexer": "ipython3",
   "version": "3.5.2"
  }
 },
 "nbformat": 4,
 "nbformat_minor": 2
}
